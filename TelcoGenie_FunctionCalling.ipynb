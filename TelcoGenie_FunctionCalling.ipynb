{
 "cells": [
  {
   "cell_type": "markdown",
   "id": "a49c3400",
   "metadata": {},
   "source": [
    "# TelcoGenie 1.0"
   ]
  },
  {
   "cell_type": "markdown",
   "id": "6d969733",
   "metadata": {},
   "source": [
    "## 1. Introduction\n",
    "### 1.1 Business Domain\n",
    "    The telecom industry is at the forefront of digital transformation, driven by technological advancements and the demand for enhanced customer experience. Generative AI offers significant potential to redefine customer service, automating repetitive queries while providing personalized, engaging interactions.\n",
    "\n",
    "### 1.2 Overview\n",
    "    TelcoGenie 1.0 is a conversational Generative AI chatbot designed for telecom companies. This product aims to automate and streamline customer support for mobile subscription-related queries. The chatbot caters to prepaid and postpaid customers by handling inquiries about balance, billing, pricing plans, and recommending suitable plans.\n",
    "\n",
    "### 1.3 Scope\n",
    "    Included Features:\n",
    "    Balance inquiries for prepaid customers.\n",
    "    Billing information for postpaid customers.\n",
    "    Pricing plan details for both prepaid and postpaid customers.\n",
    "    Plan recommendations for potential and existing customers.\n",
    "\n",
    "    Excluded Features:\n",
    "    Queries unrelated to mobile subscriptions.\n",
    "    Other telecom services (e.g., broadband, TV).\n",
    "\n",
    "    Target Users:\n",
    "    Mobile subscribers (prepaid/postpaid).\n",
    "    Potential customers looking for a mobile subscription.\n",
    "\n",
    "### 1.4 Objectives\n",
    "    Automate basic customer support interactions.\n",
    "    Reduce reliance on human agents for routine queries.\n",
    "    Deliver personalized recommendations for user retention and acquisition.\n",
    "\n"
   ]
  },
  {
   "cell_type": "markdown",
   "id": "146515a7",
   "metadata": {},
   "source": [
    "## Import Libraries"
   ]
  },
  {
   "cell_type": "code",
   "execution_count": 1,
   "id": "84d8a0e8",
   "metadata": {},
   "outputs": [],
   "source": [
    "# Import the libraries\n",
    "import os, json, ast\n",
    "import openai\n",
    "from openai import OpenAI\n",
    "from tenacity import retry, wait_random_exponential, stop_after_attempt"
   ]
  },
  {
   "cell_type": "code",
   "execution_count": 2,
   "id": "6f343393",
   "metadata": {},
   "outputs": [],
   "source": [
    "# Read the OpenAI API key\n",
    "openai.api_key = open(\"C:/Users/User/Desktop/UpgradAIML/GENAI/chavi.txt\", \"r\").read().strip()\n",
    "os.environ['OPENAI_API_KEY'] = openai.api_key"
   ]
  },
  {
   "cell_type": "markdown",
   "id": "e9730b71",
   "metadata": {},
   "source": [
    "## Stage 1: Initialize Conversation & Read Data"
   ]
  },
  {
   "cell_type": "markdown",
   "id": "024698f3",
   "metadata": {},
   "source": [
    "### 1.1 Start Conversation (init_conversation)"
   ]
  },
  {
   "cell_type": "code",
   "execution_count": 71,
   "id": "18a06f95",
   "metadata": {},
   "outputs": [],
   "source": [
    "def init_conversation():\n",
    "    '''\n",
    "    Returns a list [{\"role\": \"system\", \"content\": system_message}]\n",
    "    '''\n",
    "\n",
    "    delimiter = \"####\"\n",
    "\n",
    "    \n",
    "    \n",
    "    system_message = f\"\"\"\n",
    "    You are an intelligent telecom customer service specialist and your goal is to help users with their queries.\n",
    "    You need to ask relevant questions and understand the users intent by analysing the user's responses.\n",
    "    You specialize in dealing with mobile customers. \n",
    "    The type of user queries that you can help with are:\n",
    "    1. Prepaid mobile balance enquiry\n",
    "    2. Postpaid mobile billing enquiry\n",
    "    3. Get current Plan details\n",
    "    4. Recommend top plans based on user's requirement\n",
    "    \n",
    "    First you must identify the user's intent. \n",
    "    Then you should make use of the supplied tools to assist the user and answer their queries.\n",
    "    \n",
    "    {delimiter}\n",
    "    While using the supplied tools, ensure that you are passing the correct parameter values as per the specifications.\n",
    "    {delimiter}\n",
    "    \n",
    "    Follow the chain-of-thoughts below: \\n\n",
    "    {delimiter}\n",
    "    Thought 1: Ask a question to understand the user's intent. \\n\n",
    "    If their intent is unclear. Ask followup questions to understand their intent.\n",
    "    \n",
    "    You need to first be clear about the user's intent. \n",
    "    If the intent is one of the following then you proceed to next thought:\n",
    "    1. Prepaid mobile balance enquiry\n",
    "    2. Postpaid mobile billing enquiry\n",
    "    3. Get current Plan details\n",
    "    4. New mobile connection or change plan\n",
    "    \n",
    "    If the intent is different from any of the above then you tell the user that you will redirect their query to a \n",
    "    human assistant and mention that they will soon be connected to a human assistant to help them with their query.\n",
    "    \n",
    "    In case you do not have an appropriate tool to be called then continue with the conversation.\n",
    "\n",
    "    {delimiter}\n",
    "    Thought 2: Lets say the users intent is one of the below:\n",
    "    1. Prepaid mobile balance enquiry\n",
    "    2. Postpaid mobile billing enquiry\n",
    "    3. Get current plan details\n",
    "    4. New mobile connection\n",
    "    5. Change plan\n",
    "    Check the tools supplied and call the appropriate tool based on the intent.\n",
    "        \n",
    "    {delimiter}\n",
    "    \n",
    "    {delimiter}\n",
    "    Thought 3: \n",
    "    Do not assume or manipulate the values for any of the parameters input to the tool. \n",
    "    You are supposed to get complete understanding of users requirement on all aspects.\n",
    "    You cannot assume user preferences on any of the aspects like International calls or OTT.\n",
    "    If the user preference is not clear to you, then ask more questions, do not assume or manipulate the parameter values.\n",
    "    You must ask question with a sound logic as opposed to directly citing the key you want to understand value for.\n",
    "    You will be heavily penalised if you manipulate any parameter values without understanding the users requirement.\n",
    "            \n",
    "    {delimiter}\n",
    "\n",
    "    {delimiter}\n",
    "    Thought 4: Check if you have populated the input parameter values correctly if you are calling a tool.\n",
    "    For calling the functions get_billing_info or get_balance_info, you must supply value of \"Mobile Number\" in the input. \n",
    "    You will be heavily penalised if you do not follow this instruction.\n",
    "    If you are not confident about any of the values, ask clarifying questions.\n",
    "    {delimiter}\n",
    "    \n",
    "    {delimiter}\n",
    "    Thought 5: While asking for the Mobile Number, it is better to specify the expected length\n",
    "    For example : Please provide your 10 digit mobile number.\n",
    "    {delimiter}\n",
    "    \n",
    "    {delimiter}\n",
    "    Thought 6: When the user asks for a new mobile connection or a plan change, ask user preferences using questions framed with sound logic.\n",
    "    You should not ask multiple questions in one go.\n",
    "    Below is a bad example of asking questions as here multiple questions are asked with direct refernce to low/medium/high values.\n",
    "    'To help you with a new mobile connection, I need to understand your usage preferences. This will help me recommend the best plans for you. Could you please let me know:\\n\\n1. Your data usage preference (low, medium, high)?\\n2. Your voice usage preference (low, medium, high)?\\n3. Your SMS usage preference (low, medium, high)?\\n4. Your use of international calling (low, medium, high)?\\n5. Your use of international roaming (low, medium, high)?\\n6. Your interest in OTT services (low, medium, high)?\\n7. Your monthly budget for the mobile plan?'\n",
    "    A better way to frame the question would be as below :\n",
    "    'To help you with a new mobile connection, I need to understand your usage preferences. This will help me recommend the best plans for you. Could you please let me know if you use a lot of mobile data on a daily basis?'\n",
    "    Once the user has answered you can move to the next logical question.\n",
    "    {delimiter}\n",
    "    \n",
    "    {delimiter}\n",
    "    Thought 7: The functions get_billing_info and get_balance_info will provide a response in a json format. \n",
    "    You need to use the details to answer the specific query from the user.\n",
    "    If the answer to user's query is not available in the response provided by the tools then advise the user that you will connect him/her to a human assistant for further help.\n",
    "    {delimiter}\n",
    "    \n",
    "    {delimiter}\n",
    "    Thought 8: The function get_plan_recommendations will output a string containing a list of dictionaries.\n",
    "    Each dictionary in the list represents the details of one plan.\n",
    "    You need to use these details and recommend the plans to the users in the increasing order of monthly budget.\n",
    "    You recommend each plan to the user as a sales expert highlighting its key features so that the user will be interested to enroll for the plan. \n",
    "    If the function does not return any plan in the response then advise the user that you will connect him/her to a human assistant for further help.\n",
    "    User may ask more queries about the plans, answer them based on the recommended plans data you have. If the answer to user's query is not available then advise the user that you will connect him/her to a human assistant for further help.\n",
    "    {delimiter}\n",
    "    \n",
    "    \n",
    "    Start with a short welcome message and encourage the user to share their requirements.\n",
    "    \"\"\"\n",
    "    conversation = [{\"role\": \"system\", \"content\": system_message}]\n",
    "    # conversation = system_message\n",
    "    return conversation"
   ]
  },
  {
   "cell_type": "code",
   "execution_count": 72,
   "id": "0f31b338",
   "metadata": {},
   "outputs": [
    {
     "name": "stdout",
     "output_type": "stream",
     "text": [
      "[{'role': 'system', 'content': '\\n    You are an intelligent telecom customer service specialist and your goal is to help users with their queries.\\n    You need to ask relevant questions and understand the users intent by analysing the user\\'s responses.\\n    You specialize in dealing with mobile customers. \\n    The type of user queries that you can help with are:\\n    1. Prepaid mobile balance enquiry\\n    2. Postpaid mobile billing enquiry\\n    3. Get current Plan details\\n    4. Recommend top plans based on user\\'s requirement\\n    \\n    First you must identify the user\\'s intent. \\n    Then you should make use of the supplied tools to assist the user and answer their queries.\\n    \\n    ####\\n    While using the supplied tools, ensure that you are passing the correct parameter values as per the specifications.\\n    ####\\n    \\n    Follow the chain-of-thoughts below: \\n\\n    ####\\n    Thought 1: Ask a question to understand the user\\'s intent. \\n\\n    If their intent is unclear. Ask followup questions to understand their intent.\\n    \\n    You need to first be clear about the user\\'s intent. \\n    If the intent is one of the following then you proceed to next thought:\\n    1. Prepaid mobile balance enquiry\\n    2. Postpaid mobile billing enquiry\\n    3. Get current Plan details\\n    4. New mobile connection or change plan\\n    \\n    If the intent is different from any of the above then you tell the user that you will redirect their query to a \\n    human assistant and mention that they will soon be connected to a human assistant to help them with their query.\\n    \\n    In case you do not have an appropriate tool to be called then continue with the conversation.\\n\\n    ####\\n    Thought 2: Lets say the users intent is one of the below:\\n    1. Prepaid mobile balance enquiry\\n    2. Postpaid mobile billing enquiry\\n    3. Get current plan details\\n    4. New mobile connection\\n    5. Change plan\\n    Check the tools supplied and call the appropriate tool based on the intent.\\n        \\n    ####\\n    \\n    ####\\n    Thought 3: \\n    Do not assume or manipulate the values for any of the parameters input to the tool. \\n    You are supposed to get complete understanding of users requirement on all aspects.\\n    You cannot assume user preferences on any of the aspects like International calls or OTT.\\n    If the user preference is not clear to you, then ask more questions, do not assume or manipulate the parameter values.\\n    You must ask question with a sound logic as opposed to directly citing the key you want to understand value for.\\n    You will be heavily penalised if you manipulate any parameter values without understanding the users requirement.\\n            \\n    ####\\n\\n    ####\\n    Thought 4: Check if you have populated the input parameter values correctly if you are calling a tool.\\n    For calling the functions get_billing_info or get_balance_info, you must supply value of \"Mobile Number\" in the input. \\n    You will be heavily penalised if you do not follow this instruction.\\n    If you are not confident about any of the values, ask clarifying questions.\\n    ####\\n    \\n    ####\\n    Thought 5: While asking for the Mobile Number, it is better to specify the expected length\\n    For example : Please provide your 10 digit mobile number.\\n    ####\\n    \\n    ####\\n    Thought 6: When the user asks for a new mobile connection or a plan change, ask user preferences using questions framed with sound logic.\\n    You should not ask multiple questions in one go.\\n    Below is a bad example of asking questions as here multiple questions are asked with direct refernce to low/medium/high values.\\n    \\'To help you with a new mobile connection, I need to understand your usage preferences. This will help me recommend the best plans for you. Could you please let me know:\\n\\n1. Your data usage preference (low, medium, high)?\\n2. Your voice usage preference (low, medium, high)?\\n3. Your SMS usage preference (low, medium, high)?\\n4. Your use of international calling (low, medium, high)?\\n5. Your use of international roaming (low, medium, high)?\\n6. Your interest in OTT services (low, medium, high)?\\n7. Your monthly budget for the mobile plan?\\'\\n    A better way to frame the question would be as below :\\n    \\'To help you with a new mobile connection, I need to understand your usage preferences. This will help me recommend the best plans for you. Could you please let me know if you use a lot of mobile data on a daily basis?\\'\\n    Once the user has answered you can move to the next logical question.\\n    ####\\n    \\n    ####\\n    Thought 7: The functions get_billing_info and get_balance_info will provide a response in a json format. \\n    You need to use the details to answer the specific query from the user.\\n    If the answer to user\\'s query is not available in the response provided by the tools then advise the user that you will connect him/her to a human assistant for further help.\\n    ####\\n    \\n    ####\\n    Thought 8: The function get_plan_recommendations will output a string containing a list of dictionaries.\\n    Each dictionary in the list represents the details of one plan.\\n    You need to use these details and recommend the plans to the users in the increasing order of monthly budget.\\n    You recommend each plan to the user as a sales expert highlighting its key features so that the user will be interested to enroll for the plan. \\n    If the function does not return any plan in the response then advise the user that you will connect him/her to a human assistant for further help.\\n    User may ask more queries about the plans, answer them based on the recommended plans data you have. If the answer to user\\'s query is not available then advise the user that you will connect him/her to a human assistant for further help.\\n    ####\\n    \\n    \\n    Start with a short welcome message and encourage the user to share their requirements.\\n    '}]\n"
     ]
    }
   ],
   "source": [
    "debug_conversation = init_conversation()\n",
    "print(debug_conversation)"
   ]
  },
  {
   "cell_type": "code",
   "execution_count": 73,
   "id": "b1943184",
   "metadata": {},
   "outputs": [
    {
     "name": "stdout",
     "output_type": "stream",
     "text": [
      "\n",
      "    You are an intelligent telecom customer service specialist and your goal is to help users with their queries.\n",
      "    You need to ask relevant questions and understand the users intent by analysing the user's responses.\n",
      "    You specialize in dealing with mobile customers. \n",
      "    The type of user queries that you can help with are:\n",
      "    1. Prepaid mobile balance enquiry\n",
      "    2. Postpaid mobile billing enquiry\n",
      "    3. Get current Plan details\n",
      "    4. Recommend top plans based on user's requirement\n",
      "    \n",
      "    First you must identify the user's intent. \n",
      "    Then you should make use of the supplied tools to assist the user and answer their queries.\n",
      "    \n",
      "    ####\n",
      "    While using the supplied tools, ensure that you are passing the correct parameter values as per the specifications.\n",
      "    ####\n",
      "    \n",
      "    Follow the chain-of-thoughts below: \n",
      "\n",
      "    ####\n",
      "    Thought 1: Ask a question to understand the user's intent. \n",
      "\n",
      "    If their intent is unclear. Ask followup questions to understand their intent.\n",
      "    \n",
      "    You need to first be clear about the user's intent. \n",
      "    If the intent is one of the following then you proceed to next thought:\n",
      "    1. Prepaid mobile balance enquiry\n",
      "    2. Postpaid mobile billing enquiry\n",
      "    3. Get current Plan details\n",
      "    4. New mobile connection or change plan\n",
      "    \n",
      "    If the intent is different from any of the above then you tell the user that you will redirect their query to a \n",
      "    human assistant and mention that they will soon be connected to a human assistant to help them with their query.\n",
      "    \n",
      "    In case you do not have an appropriate tool to be called then continue with the conversation.\n",
      "\n",
      "    ####\n",
      "    Thought 2: Lets say the users intent is one of the below:\n",
      "    1. Prepaid mobile balance enquiry\n",
      "    2. Postpaid mobile billing enquiry\n",
      "    3. Get current plan details\n",
      "    4. New mobile connection\n",
      "    5. Change plan\n",
      "    Check the tools supplied and call the appropriate tool based on the intent.\n",
      "        \n",
      "    ####\n",
      "    \n",
      "    ####\n",
      "    Thought 3: \n",
      "    Do not assume or manipulate the values for any of the parameters input to the tool. \n",
      "    You are supposed to get complete understanding of users requirement on all aspects.\n",
      "    You cannot assume user preferences on any of the aspects like International calls or OTT.\n",
      "    If the user preference is not clear to you, then ask more questions, do not assume or manipulate the parameter values.\n",
      "    You must ask question with a sound logic as opposed to directly citing the key you want to understand value for.\n",
      "    You will be heavily penalised if you manipulate any parameter values without understanding the users requirement.\n",
      "            \n",
      "    ####\n",
      "\n",
      "    ####\n",
      "    Thought 4: Check if you have populated the input parameter values correctly if you are calling a tool.\n",
      "    For calling the functions get_billing_info or get_balance_info, you must supply value of \"Mobile Number\" in the input. \n",
      "    You will be heavily penalised if you do not follow this instruction.\n",
      "    If you are not confident about any of the values, ask clarifying questions.\n",
      "    ####\n",
      "    \n",
      "    ####\n",
      "    Thought 5: While asking for the Mobile Number, it is better to specify the expected length\n",
      "    For example : Please provide your 10 digit mobile number.\n",
      "    ####\n",
      "    \n",
      "    ####\n",
      "    Thought 6: When the user asks for a new mobile connection or a plan change, ask user preferences using questions framed with sound logic.\n",
      "    You should not ask multiple questions in one go.\n",
      "    Below is a bad example of asking questions as here multiple questions are asked with direct refernce to low/medium/high values.\n",
      "    'To help you with a new mobile connection, I need to understand your usage preferences. This will help me recommend the best plans for you. Could you please let me know:\n",
      "\n",
      "1. Your data usage preference (low, medium, high)?\n",
      "2. Your voice usage preference (low, medium, high)?\n",
      "3. Your SMS usage preference (low, medium, high)?\n",
      "4. Your use of international calling (low, medium, high)?\n",
      "5. Your use of international roaming (low, medium, high)?\n",
      "6. Your interest in OTT services (low, medium, high)?\n",
      "7. Your monthly budget for the mobile plan?'\n",
      "    A better way to frame the question would be as below :\n",
      "    'To help you with a new mobile connection, I need to understand your usage preferences. This will help me recommend the best plans for you. Could you please let me know if you use a lot of mobile data on a daily basis?'\n",
      "    Once the user has answered you can move to the next logical question.\n",
      "    ####\n",
      "    \n",
      "    ####\n",
      "    Thought 7: The functions get_billing_info and get_balance_info will provide a response in a json format. \n",
      "    You need to use the details to answer the specific query from the user.\n",
      "    If the answer to user's query is not available in the response provided by the tools then advise the user that you will connect him/her to a human assistant for further help.\n",
      "    ####\n",
      "    \n",
      "    ####\n",
      "    Thought 8: The function get_plan_recommendations will output a string containing a list of dictionaries.\n",
      "    Each dictionary in the list represents the details of one plan.\n",
      "    You need to use these details and recommend the plans to the users in the increasing order of monthly budget.\n",
      "    You recommend each plan to the user as a sales expert highlighting its key features so that the user will be interested to enroll for the plan. \n",
      "    If the function does not return any plan in the response then advise the user that you will connect him/her to a human assistant for further help.\n",
      "    User may ask more queries about the plans, answer them based on the recommended plans data you have. If the answer to user's query is not available then advise the user that you will connect him/her to a human assistant for further help.\n",
      "    ####\n",
      "    \n",
      "    \n",
      "    Start with a short welcome message and encourage the user to share their requirements.\n",
      "    \n"
     ]
    }
   ],
   "source": [
    "system_message = init_conversation()\n",
    "print(system_message[0][\"content\"])"
   ]
  },
  {
   "cell_type": "markdown",
   "id": "e44c7e57",
   "metadata": {},
   "source": [
    "### 1.2. Read Data"
   ]
  },
  {
   "cell_type": "code",
   "execution_count": 74,
   "id": "c95182a9",
   "metadata": {},
   "outputs": [],
   "source": [
    "import pandas as pd"
   ]
  },
  {
   "cell_type": "code",
   "execution_count": 75,
   "id": "fd6a044e",
   "metadata": {},
   "outputs": [],
   "source": [
    "plan_data = pd.read_csv(\"plan_data.csv\")"
   ]
  },
  {
   "cell_type": "code",
   "execution_count": 76,
   "id": "b60ceff6",
   "metadata": {},
   "outputs": [
    {
     "data": {
      "text/html": [
       "<div>\n",
       "<style scoped>\n",
       "    .dataframe tbody tr th:only-of-type {\n",
       "        vertical-align: middle;\n",
       "    }\n",
       "\n",
       "    .dataframe tbody tr th {\n",
       "        vertical-align: top;\n",
       "    }\n",
       "\n",
       "    .dataframe thead th {\n",
       "        text-align: right;\n",
       "    }\n",
       "</style>\n",
       "<table border=\"1\" class=\"dataframe\">\n",
       "  <thead>\n",
       "    <tr style=\"text-align: right;\">\n",
       "      <th></th>\n",
       "      <th>Name</th>\n",
       "      <th>Description</th>\n",
       "      <th>Subscription Type</th>\n",
       "      <th>Bundled Plan Indicator</th>\n",
       "      <th>Minimum Recharge/Monthly Recurring Amount</th>\n",
       "      <th>Free Voice Minutes</th>\n",
       "      <th>Free SMS</th>\n",
       "      <th>Free Data (GB)</th>\n",
       "      <th>Validity (Days)</th>\n",
       "      <th>Data Speed (Mbps)</th>\n",
       "      <th>Value Added Services</th>\n",
       "      <th>Bundled OTT Content</th>\n",
       "    </tr>\n",
       "  </thead>\n",
       "  <tbody>\n",
       "    <tr>\n",
       "      <th>0</th>\n",
       "      <td>Basic Saver</td>\n",
       "      <td>A budget-friendly prepaid plan offering essent...</td>\n",
       "      <td>Prepaid</td>\n",
       "      <td>No</td>\n",
       "      <td>99</td>\n",
       "      <td>100</td>\n",
       "      <td>50</td>\n",
       "      <td>1</td>\n",
       "      <td>28</td>\n",
       "      <td>4</td>\n",
       "      <td>NaN</td>\n",
       "      <td>None</td>\n",
       "    </tr>\n",
       "    <tr>\n",
       "      <th>1</th>\n",
       "      <td>Daily Data Delight</td>\n",
       "      <td>A prepaid plan for data enthusiasts; Includes ...</td>\n",
       "      <td>Prepaid</td>\n",
       "      <td>No</td>\n",
       "      <td>249</td>\n",
       "      <td>500</td>\n",
       "      <td>100</td>\n",
       "      <td>56</td>\n",
       "      <td>28</td>\n",
       "      <td>10</td>\n",
       "      <td>NaN</td>\n",
       "      <td>None</td>\n",
       "    </tr>\n",
       "    <tr>\n",
       "      <th>2</th>\n",
       "      <td>Streaming Starter</td>\n",
       "      <td>A bundled prepaid plan with 1-month Disney Hot...</td>\n",
       "      <td>Prepaid</td>\n",
       "      <td>Yes</td>\n",
       "      <td>399</td>\n",
       "      <td>300</td>\n",
       "      <td>100</td>\n",
       "      <td>84</td>\n",
       "      <td>28</td>\n",
       "      <td>10</td>\n",
       "      <td>NaN</td>\n",
       "      <td>Disney Hotstar</td>\n",
       "    </tr>\n",
       "    <tr>\n",
       "      <th>3</th>\n",
       "      <td>Value Voice</td>\n",
       "      <td>Affordable prepaid plan for voice-focused user...</td>\n",
       "      <td>Prepaid</td>\n",
       "      <td>No</td>\n",
       "      <td>149</td>\n",
       "      <td>1000</td>\n",
       "      <td>50</td>\n",
       "      <td>0.5</td>\n",
       "      <td>28</td>\n",
       "      <td>4</td>\n",
       "      <td>NaN</td>\n",
       "      <td>None</td>\n",
       "    </tr>\n",
       "    <tr>\n",
       "      <th>4</th>\n",
       "      <td>Max Connect Pro</td>\n",
       "      <td>A premium bundled prepaid plan offering Netfli...</td>\n",
       "      <td>Prepaid</td>\n",
       "      <td>Yes</td>\n",
       "      <td>999</td>\n",
       "      <td>1000</td>\n",
       "      <td>500</td>\n",
       "      <td>360</td>\n",
       "      <td>90</td>\n",
       "      <td>25</td>\n",
       "      <td>International Roaming; ISD Calling</td>\n",
       "      <td>Netflix</td>\n",
       "    </tr>\n",
       "  </tbody>\n",
       "</table>\n",
       "</div>"
      ],
      "text/plain": [
       "                 Name                                        Description  \\\n",
       "0         Basic Saver  A budget-friendly prepaid plan offering essent...   \n",
       "1  Daily Data Delight  A prepaid plan for data enthusiasts; Includes ...   \n",
       "2   Streaming Starter  A bundled prepaid plan with 1-month Disney Hot...   \n",
       "3         Value Voice  Affordable prepaid plan for voice-focused user...   \n",
       "4     Max Connect Pro  A premium bundled prepaid plan offering Netfli...   \n",
       "\n",
       "  Subscription Type Bundled Plan Indicator  \\\n",
       "0           Prepaid                     No   \n",
       "1           Prepaid                     No   \n",
       "2           Prepaid                    Yes   \n",
       "3           Prepaid                     No   \n",
       "4           Prepaid                    Yes   \n",
       "\n",
       "   Minimum Recharge/Monthly Recurring Amount Free Voice Minutes  Free SMS  \\\n",
       "0                                         99                100        50   \n",
       "1                                        249                500       100   \n",
       "2                                        399                300       100   \n",
       "3                                        149               1000        50   \n",
       "4                                        999               1000       500   \n",
       "\n",
       "  Free Data (GB)  Validity (Days)  Data Speed (Mbps)  \\\n",
       "0              1               28                  4   \n",
       "1             56               28                 10   \n",
       "2             84               28                 10   \n",
       "3            0.5               28                  4   \n",
       "4            360               90                 25   \n",
       "\n",
       "                 Value Added Services Bundled OTT Content  \n",
       "0                                 NaN                None  \n",
       "1                                 NaN                None  \n",
       "2                                 NaN      Disney Hotstar  \n",
       "3                                 NaN                None  \n",
       "4  International Roaming; ISD Calling             Netflix  "
      ]
     },
     "execution_count": 76,
     "metadata": {},
     "output_type": "execute_result"
    }
   ],
   "source": [
    "plan_data.head()"
   ]
  },
  {
   "cell_type": "code",
   "execution_count": 77,
   "id": "f08aef84",
   "metadata": {},
   "outputs": [],
   "source": [
    "subscriber_data = pd.read_csv(\"telecom_subscribers_data.csv\")"
   ]
  },
  {
   "cell_type": "code",
   "execution_count": 78,
   "id": "11f7c0d8",
   "metadata": {},
   "outputs": [
    {
     "data": {
      "text/html": [
       "<div>\n",
       "<style scoped>\n",
       "    .dataframe tbody tr th:only-of-type {\n",
       "        vertical-align: middle;\n",
       "    }\n",
       "\n",
       "    .dataframe tbody tr th {\n",
       "        vertical-align: top;\n",
       "    }\n",
       "\n",
       "    .dataframe thead th {\n",
       "        text-align: right;\n",
       "    }\n",
       "</style>\n",
       "<table border=\"1\" class=\"dataframe\">\n",
       "  <thead>\n",
       "    <tr style=\"text-align: right;\">\n",
       "      <th></th>\n",
       "      <th>Mobile Number</th>\n",
       "      <th>Customer ID</th>\n",
       "      <th>First Name</th>\n",
       "      <th>Last Name</th>\n",
       "      <th>Subscription Type</th>\n",
       "      <th>Subscription Status</th>\n",
       "      <th>Price Plan</th>\n",
       "      <th>Activation Date</th>\n",
       "      <th>Cancellation Date</th>\n",
       "      <th>Total Prepaid Balance</th>\n",
       "      <th>Prepaid Balance Used</th>\n",
       "      <th>Prepaid Balance Remaining</th>\n",
       "      <th>Last Recharge Amount</th>\n",
       "      <th>Last Recharge Date</th>\n",
       "      <th>Last Billed Amount</th>\n",
       "      <th>Last Bill Payment Amount</th>\n",
       "      <th>Last Bill Payment Date</th>\n",
       "      <th>Pending Amount Due</th>\n",
       "      <th>Bill Due Date</th>\n",
       "    </tr>\n",
       "  </thead>\n",
       "  <tbody>\n",
       "    <tr>\n",
       "      <th>0</th>\n",
       "      <td>8924736643</td>\n",
       "      <td>60954206</td>\n",
       "      <td>Nisha</td>\n",
       "      <td>Mehta</td>\n",
       "      <td>Prepaid</td>\n",
       "      <td>Active</td>\n",
       "      <td>Super Saver Plus</td>\n",
       "      <td>2015-07-06</td>\n",
       "      <td>NaN</td>\n",
       "      <td>664.0</td>\n",
       "      <td>157.0</td>\n",
       "      <td>507.0</td>\n",
       "      <td>664.0</td>\n",
       "      <td>2020-02-02</td>\n",
       "      <td>NaN</td>\n",
       "      <td>NaN</td>\n",
       "      <td>NaN</td>\n",
       "      <td>NaN</td>\n",
       "      <td>NaN</td>\n",
       "    </tr>\n",
       "    <tr>\n",
       "      <th>1</th>\n",
       "      <td>7446370198</td>\n",
       "      <td>56195994</td>\n",
       "      <td>Anika</td>\n",
       "      <td>Patel</td>\n",
       "      <td>Prepaid</td>\n",
       "      <td>Cancelled</td>\n",
       "      <td>Daily Data Delight</td>\n",
       "      <td>2019-01-12</td>\n",
       "      <td>2023-12-23</td>\n",
       "      <td>809.0</td>\n",
       "      <td>344.0</td>\n",
       "      <td>465.0</td>\n",
       "      <td>809.0</td>\n",
       "      <td>2019-10-21</td>\n",
       "      <td>NaN</td>\n",
       "      <td>NaN</td>\n",
       "      <td>NaN</td>\n",
       "      <td>NaN</td>\n",
       "      <td>NaN</td>\n",
       "    </tr>\n",
       "    <tr>\n",
       "      <th>2</th>\n",
       "      <td>9037977779</td>\n",
       "      <td>88330030</td>\n",
       "      <td>Arjun</td>\n",
       "      <td>Kulkarni</td>\n",
       "      <td>Prepaid</td>\n",
       "      <td>Active</td>\n",
       "      <td>Traveler’s Delight</td>\n",
       "      <td>2023-05-20</td>\n",
       "      <td>NaN</td>\n",
       "      <td>438.0</td>\n",
       "      <td>148.0</td>\n",
       "      <td>290.0</td>\n",
       "      <td>438.0</td>\n",
       "      <td>2024-06-09</td>\n",
       "      <td>NaN</td>\n",
       "      <td>NaN</td>\n",
       "      <td>NaN</td>\n",
       "      <td>NaN</td>\n",
       "      <td>NaN</td>\n",
       "    </tr>\n",
       "    <tr>\n",
       "      <th>3</th>\n",
       "      <td>8523964407</td>\n",
       "      <td>32464071</td>\n",
       "      <td>Rahul</td>\n",
       "      <td>Singh</td>\n",
       "      <td>Prepaid</td>\n",
       "      <td>Active</td>\n",
       "      <td>Smart Flex</td>\n",
       "      <td>2014-03-18</td>\n",
       "      <td>NaN</td>\n",
       "      <td>227.0</td>\n",
       "      <td>129.0</td>\n",
       "      <td>98.0</td>\n",
       "      <td>227.0</td>\n",
       "      <td>2017-02-10</td>\n",
       "      <td>NaN</td>\n",
       "      <td>NaN</td>\n",
       "      <td>NaN</td>\n",
       "      <td>NaN</td>\n",
       "      <td>NaN</td>\n",
       "    </tr>\n",
       "    <tr>\n",
       "      <th>4</th>\n",
       "      <td>7841376909</td>\n",
       "      <td>96075134</td>\n",
       "      <td>Pooja</td>\n",
       "      <td>Patel</td>\n",
       "      <td>Prepaid</td>\n",
       "      <td>Active</td>\n",
       "      <td>Super Saver Plus</td>\n",
       "      <td>2014-08-17</td>\n",
       "      <td>NaN</td>\n",
       "      <td>202.0</td>\n",
       "      <td>134.0</td>\n",
       "      <td>68.0</td>\n",
       "      <td>202.0</td>\n",
       "      <td>2015-01-23</td>\n",
       "      <td>NaN</td>\n",
       "      <td>NaN</td>\n",
       "      <td>NaN</td>\n",
       "      <td>NaN</td>\n",
       "      <td>NaN</td>\n",
       "    </tr>\n",
       "  </tbody>\n",
       "</table>\n",
       "</div>"
      ],
      "text/plain": [
       "   Mobile Number  Customer ID First Name Last Name Subscription Type  \\\n",
       "0     8924736643     60954206      Nisha     Mehta           Prepaid   \n",
       "1     7446370198     56195994      Anika     Patel           Prepaid   \n",
       "2     9037977779     88330030      Arjun  Kulkarni           Prepaid   \n",
       "3     8523964407     32464071      Rahul     Singh           Prepaid   \n",
       "4     7841376909     96075134      Pooja     Patel           Prepaid   \n",
       "\n",
       "  Subscription Status          Price Plan Activation Date Cancellation Date  \\\n",
       "0              Active    Super Saver Plus      2015-07-06               NaN   \n",
       "1           Cancelled  Daily Data Delight      2019-01-12        2023-12-23   \n",
       "2              Active  Traveler’s Delight      2023-05-20               NaN   \n",
       "3              Active          Smart Flex      2014-03-18               NaN   \n",
       "4              Active    Super Saver Plus      2014-08-17               NaN   \n",
       "\n",
       "   Total Prepaid Balance  Prepaid Balance Used  Prepaid Balance Remaining  \\\n",
       "0                  664.0                 157.0                      507.0   \n",
       "1                  809.0                 344.0                      465.0   \n",
       "2                  438.0                 148.0                      290.0   \n",
       "3                  227.0                 129.0                       98.0   \n",
       "4                  202.0                 134.0                       68.0   \n",
       "\n",
       "   Last Recharge Amount Last Recharge Date  Last Billed Amount  \\\n",
       "0                 664.0         2020-02-02                 NaN   \n",
       "1                 809.0         2019-10-21                 NaN   \n",
       "2                 438.0         2024-06-09                 NaN   \n",
       "3                 227.0         2017-02-10                 NaN   \n",
       "4                 202.0         2015-01-23                 NaN   \n",
       "\n",
       "   Last Bill Payment Amount Last Bill Payment Date  Pending Amount Due  \\\n",
       "0                       NaN                    NaN                 NaN   \n",
       "1                       NaN                    NaN                 NaN   \n",
       "2                       NaN                    NaN                 NaN   \n",
       "3                       NaN                    NaN                 NaN   \n",
       "4                       NaN                    NaN                 NaN   \n",
       "\n",
       "  Bill Due Date  \n",
       "0           NaN  \n",
       "1           NaN  \n",
       "2           NaN  \n",
       "3           NaN  \n",
       "4           NaN  "
      ]
     },
     "execution_count": 78,
     "metadata": {},
     "output_type": "execute_result"
    }
   ],
   "source": [
    "subscriber_data.head()"
   ]
  },
  {
   "cell_type": "markdown",
   "id": "2ecf5cf2",
   "metadata": {},
   "source": [
    "## Stage 2: Tools Schema & Function Definitions"
   ]
  },
  {
   "cell_type": "markdown",
   "id": "aef90883",
   "metadata": {},
   "source": [
    "### 2.1 Tools Schema"
   ]
  },
  {
   "cell_type": "code",
   "execution_count": 124,
   "id": "71ae0c3b",
   "metadata": {},
   "outputs": [],
   "source": [
    "tools = [\n",
    "    {\n",
    "        \"type\": \"function\",\n",
    "        \"function\": {\n",
    "            \"name\": \"get_balance_info\",\n",
    "            \"description\": \"Get the prepaid balance information for a mobile subscriber. Call this whenever you need to know prepaid balance related information, for example when a customer asks 'I have an issue with my prepaid number' or 'I want to know my mobile balance'\",\n",
    "            \"parameters\": {\n",
    "                \"type\": \"object\",\n",
    "                \"properties\": {\n",
    "                    \"Mobile_Number\": {\n",
    "                        \"type\": \"string\",\n",
    "                        \"description\": \"The customer's Mobile Number.\",\n",
    "                    }\n",
    "                },\n",
    "                \"required\": [\"Mobile_Number\"],\n",
    "                \"additionalProperties\": False,\n",
    "            }\n",
    "        }\n",
    "    },\n",
    "    {\n",
    "        \"type\": \"function\",\n",
    "        \"function\": {\n",
    "            \"name\": \"get_billing_info\",\n",
    "            \"description\": \"Get the postpaid billing information for a mobile subscriber. Call this whenever you need to know postpaid billing related information, for example when a customer asks 'I have a billing issue' or 'I want to know my bill due date'\",\n",
    "            \"parameters\": {\n",
    "                \"type\": \"object\",\n",
    "                \"properties\": {\n",
    "                    \"Mobile_Number\": {\n",
    "                        \"type\": \"string\",\n",
    "                        \"description\": \"The customer's Mobile Number.\",\n",
    "                    }\n",
    "                },\n",
    "                \"required\": [\"Mobile_Number\"],\n",
    "                \"additionalProperties\": False,\n",
    "            }\n",
    "        }\n",
    "    },\n",
    "    {\n",
    "        \"type\": \"function\",\n",
    "        \"function\": {\n",
    "            \"name\": \"get_customer_details\",\n",
    "            \"description\": \"Get the customer details for a mobile subscriber including the plan details. Call this whenever the user asks for subscription details or plan details or activation date\",\n",
    "            \"parameters\": {\n",
    "                \"type\": \"object\",\n",
    "                \"properties\": {\n",
    "                    \"Mobile_Number\": {\n",
    "                        \"type\": \"string\",\n",
    "                        \"description\": \"The customer's Mobile Number.\",\n",
    "                    }\n",
    "                },\n",
    "                \"required\": [\"Mobile_Number\"],\n",
    "                \"additionalProperties\": False,\n",
    "            }\n",
    "        }\n",
    "    },\n",
    "    {\n",
    "        \"type\": \"function\",\n",
    "        \"function\": {\n",
    "            \"name\": \"get_plan_recommendations\",\n",
    "            \"description\": \"Get top plan recommendations for a mobile subscriber. The subscriber may be a new customer who wants a new connection or an existing subscriber who wants to change the plan. Call this whenever you need to provide plan recommendations to a user, for example when a user asks 'I want a new mobile connection' or 'I want to change my mobile plan'\",\n",
    "            \"parameters\": {\n",
    "                \"type\": \"object\",\n",
    "                \"properties\": {\n",
    "                    \"Data_Usage\": {\n",
    "                        \"type\": \"string\",\n",
    "                        \"enum\": [\"low\",\"medium\",\"high\"],\n",
    "                        \"description\": \"The user's preference on Data Usage (low/medium/high).\",\n",
    "                    },\n",
    "                    \"Voice_Usage\": {\n",
    "                        \"type\": \"string\",\n",
    "                        \"enum\": [\"low\",\"medium\",\"high\"],\n",
    "                        \"description\": \"The user's preference on Voice Usage (low/medium/high).\",\n",
    "                    },\n",
    "                    \"SMS_Usage\": {\n",
    "                        \"type\": \"string\",\n",
    "                        \"enum\": [\"low\",\"medium\",\"high\"],\n",
    "                        \"description\": \"The user's preference on SMS Usage (low/medium/high).\",\n",
    "                    },\n",
    "                    \"International_Calling\": {\n",
    "                        \"type\": \"string\",\n",
    "                        \"enum\": [\"low\",\"medium\",\"high\"],\n",
    "                        \"description\": \"The user's preference on use of International Calling feature (low/medium/high).\",\n",
    "                    },\n",
    "                    \"International_Roaming\": {\n",
    "                        \"type\": \"string\",\n",
    "                        \"enum\": [\"low\",\"medium\",\"high\"],\n",
    "                        \"description\": \"The user's preference on use of International Roaming feature (low/medium/high).\",\n",
    "                    },\n",
    "                    \"OTT_Usage\": {\n",
    "                        \"type\": \"string\",\n",
    "                        \"enum\": [\"low\",\"medium\",\"high\"],\n",
    "                        \"description\": \"The user's preference on OTT usage (low/medium/high).\",\n",
    "                    },\n",
    "                    \"Monthly_Budget\": {\n",
    "                        \"type\": \"integer\",\n",
    "                        \"description\": \"The user's monthly budget.\",\n",
    "                    }\n",
    "                },\n",
    "                \"required\": [\"Data_Usage\", \"Voice_Usage\", \"SMS_Usage\", \"International_Calling\", \"International_Roaming\", \"OTT_Usage\", \"Monthly_Budget\"],\n",
    "                \"additionalProperties\": False,\n",
    "            }\n",
    "        }\n",
    "    }\n",
    "]"
   ]
  },
  {
   "cell_type": "markdown",
   "id": "b03b3e63",
   "metadata": {},
   "source": [
    "### 2.2 Function Definition: get_customer_details "
   ]
  },
  {
   "cell_type": "code",
   "execution_count": 147,
   "id": "e42897c2",
   "metadata": {},
   "outputs": [],
   "source": [
    "import pandas as pd\n",
    "import json\n",
    "\n",
    "def get_customer_details(mobile_number, subscription_type = ''):\n",
    "    \n",
    "    df = pd.read_csv(\"telecom_subscribers_data.csv\")\n",
    "        \n",
    "    # Check if both inputs are missing\n",
    "    if not mobile_number:\n",
    "        return json.dumps({\"error\": \"Input missing please provide Mobile Number\"})\n",
    "    \n",
    "    # Filter the DataFrame based on provided input\n",
    "    if subscription_type:\n",
    "        result = df[(df['Mobile Number'] == int(mobile_number)) & (df['Subscription Type'] == subscription_type)]\n",
    "    else:\n",
    "        result = df[df['Mobile Number'] == int(mobile_number)]\n",
    "    \n",
    "    # Check if any record is found\n",
    "    if result.empty:\n",
    "        print(\"No record found\")\n",
    "        return json.dumps({\"error\": \"No record found for the provided input\"})\n",
    "    \n",
    "    # Get the first matched record\n",
    "    record = result.iloc[0]\n",
    "    \n",
    "    #json_data = result.to_dict(orient=\"records\")\n",
    "    #print(json_data)\n",
    "    \n",
    "    \n",
    "    # Create the dictionary based on Subscription Type\n",
    "    if record['Subscription Type'] == 'Prepaid':\n",
    "        data = {\n",
    "            \"Mobile Number\": int(record['Mobile Number']),\n",
    "            \"Customer ID\": int(record['Customer ID']),\n",
    "            \"First Name\": record['First Name'],\n",
    "            \"Last Name\": record['Last Name'],\n",
    "            \"Subscription Type\": record['Subscription Type'],\n",
    "            \"Subscription Status\": record['Subscription Status'],\n",
    "            \"Price Plan\": record['Price Plan'],\n",
    "            \"Activation Date\": record['Activation Date'],\n",
    "            \"Cancellation Date\": record['Cancellation Date'],\n",
    "            \"Total Prepaid Balance\": float(record['Total Prepaid Balance']),\n",
    "            \"Prepaid Balance Used\": float(record['Prepaid Balance Used']),\n",
    "            \"Prepaid Balance Remaining\": float(record['Prepaid Balance Remaining']),\n",
    "            \"Last Recharge Amount\": float(record['Last Recharge Amount']),\n",
    "            \"Last Recharge Date\": record['Last Recharge Date']\n",
    "        }\n",
    "    elif record['Subscription Type'] == 'Postpaid':\n",
    "        data = {\n",
    "            \"Mobile Number\": int(record['Mobile Number']),\n",
    "            \"Customer ID\": int(record['Customer ID']),\n",
    "            \"First Name\": record['First Name'],\n",
    "            \"Last Name\": record['Last Name'],\n",
    "            \"Subscription Type\": record['Subscription Type'],\n",
    "            \"Subscription Status\": record['Subscription Status'],\n",
    "            \"Price Plan\": record['Price Plan'],\n",
    "            \"Activation Date\": record['Activation Date'],\n",
    "            \"Cancellation Date\": record['Cancellation Date'],\n",
    "            \"Last Billed Amount\": float(record['Last Billed Amount']),\n",
    "            \"Last Bill Payment Amount\": float(record['Last Bill Payment Amount']),\n",
    "            \"Last Bill Payment Date\": record['Last Bill Payment Date'],\n",
    "            \"Pending Amount Due\": float(record['Pending Amount Due']),\n",
    "            \"Bill Due Date\": record['Bill Due Date']\n",
    "        }\n",
    "    else:\n",
    "        return json.dumps({\"error\": \"Invalid Subscription Type\"})\n",
    "    \n",
    "    # Convert to native Python types\n",
    "    # data = {key: (value.item() if hasattr(value, 'item') else value) for key, value in data.items()}\n",
    "    \n",
    "    # Convert the dictionary to a JSON object and return\n",
    "    return json.dumps(data)\n",
    "    \n",
    "# Example usage\n",
    "# Assuming `df` is your pandas DataFrame containing the data\n",
    "# result = extract_customer_data(df, Mobile_Number=\"1234567890\")\n",
    "# print(result)\n"
   ]
  },
  {
   "cell_type": "markdown",
   "id": "17e8f5df",
   "metadata": {},
   "source": [
    "### 2.3. Function Definition : get_billing_info"
   ]
  },
  {
   "cell_type": "code",
   "execution_count": 148,
   "id": "f3f16cbf",
   "metadata": {},
   "outputs": [],
   "source": [
    "def get_billing_info(Mobile_Number = ''):\n",
    "    response = get_customer_details(Mobile_Number, \"Postpaid\")\n",
    "    return response"
   ]
  },
  {
   "cell_type": "markdown",
   "id": "7d905a26",
   "metadata": {},
   "source": [
    "### 2.4. Function Definition : get_balance_info"
   ]
  },
  {
   "cell_type": "code",
   "execution_count": 149,
   "id": "826b22f6",
   "metadata": {},
   "outputs": [],
   "source": [
    "def get_balance_info(Mobile_Number = ''):\n",
    "    response = get_customer_details(Mobile_Number, \"Prepaid\")\n",
    "    return response"
   ]
  },
  {
   "cell_type": "markdown",
   "id": "4a3e228c",
   "metadata": {},
   "source": [
    "### 2.5. Function Definition : plan_map"
   ]
  },
  {
   "cell_type": "code",
   "execution_count": 150,
   "id": "71ee6388",
   "metadata": {},
   "outputs": [],
   "source": [
    "def plan_map(plan_description):\n",
    "    delimiter = \"#####\"\n",
    "    \n",
    "    plan_spec = {\n",
    "        \"Data_Usage\":\"(Free Data allowed in GB)\",\n",
    "        \"Voice_Usage\":\"(Free Voice allowed in minutes)\",\n",
    "        \"SMS_Usage\":\"(Free SMS allowed)\",\n",
    "        \"International_Calling\":\"(Is international calling included as a value added service)\",\n",
    "        \"International_Roaming\":\"(Is international roaming included as a value added service)\",\n",
    "        \"OTT_Usage\": \"(OTT platforms included in the plan)\"\n",
    "    }\n",
    "\n",
    "    values = {'low','medium','high'}\n",
    "\n",
    "    prompt=f\"\"\"\n",
    "    You are a mobile plans Specifications Classifier whose job is to extract the key features of mobile plans and classify them as per their requirements.\n",
    "    To analyze each mobile plan, perform the following steps:\n",
    "    Step 1: Extract the plan's primary features from the description {plan_description}\n",
    "    Step 2: Store the extracted features in {plan_spec} \\\n",
    "    Step 3: Classify each of the items in {plan_spec} into {values} based on the following rules: \\\n",
    "    {delimiter}\n",
    "    Data_Usage:\n",
    "    - low: <<< If free data in the plan is less than 25 GB >>> , \\n\n",
    "    - medium: <<< If free data in the plan is >= 25 GB and less than 100 GB >>> , \\n\n",
    "    - high: <<< If the free data in the plan is more than 100 GB or unlimited >>> , \\n\n",
    "\n",
    "    Voice_Usage:\n",
    "    - low: <<< If free voice minutes is less than 300 >>> , \\n\n",
    "    - medium: <<< If free voice minutes is >= 300 and less than 1000 >>> , \\n\n",
    "    - high: <<< If free voice minutes is >=1000 or unlimited >>> \\n\n",
    "\n",
    "    SMS_Usage:\n",
    "    - low: <<< If free SMS is up to 100 >>> , \\n\n",
    "    - medium: <<< if free SMS is between 100 and 1000 >>> , \\n\n",
    "    - high: <<< if free SMS is greater than 1000 or unlimited >>> \\n\n",
    "\n",
    "    International_Calling:\n",
    "    - low: <<< If the value added service does not have International Calling >>> , \\n\n",
    "    - high: <<< If the value added service has International Calling >>> \\n\n",
    "\n",
    "    International_Roaming:\n",
    "    - low: <<< If the value added service does not have International Roaming >>> , \\n\n",
    "    - high: <<< If the value added service has International Roaming >>> \\n\n",
    "    \n",
    "    OTT_Usage:\n",
    "    - low: <<< If there is no OTT offered in the plan >>> , \\n\n",
    "    - medium: <<< if there is only one OTT service offered in the plan >>> , \\n\n",
    "    - high: <<< if there are more than one OTT service offered in the plan >>> \\n\n",
    "    {delimiter}\n",
    "\n",
    "    \n",
    "    {delimiter}\n",
    "    ### Strictly don't keep any other text in the values of the JSON dictionary other than low or medium or high ###\n",
    "    ### The output must only have a JSON dictionary and no other characters before or after it. You will be heavily penalized if you do not follow this ###\n",
    "    \n",
    "    \"\"\"\n",
    "    input = f\"\"\"Follow the above instructions step-by-step and output the dictionary in JSON format {plan_spec} for the following plan {plan_description}. Return only the json in output and no extra characters\"\"\"\n",
    "    #see that we are using the Completion endpoint and not the Chatcompletion endpoint\n",
    "    messages=[{\"role\": \"system\", \"content\":prompt },{\"role\": \"user\",\"content\":input}]\n",
    "\n",
    "    # JSON return type specified\n",
    "    MODEL = 'gpt-4o'\n",
    "    chat_completion_json = openai.chat.completions.create(\n",
    "            model=MODEL,\n",
    "            response_format = { \"type\": \"json_object\"},\n",
    "            messages=messages)\n",
    "\n",
    "    #print(chat_completion_json.choices[0].message.content)\n",
    "    #response = chat_completion_json.choices[0].message.content\n",
    "    response = json.loads(chat_completion_json.choices[0].message.content)\n",
    "    return response"
   ]
  },
  {
   "cell_type": "code",
   "execution_count": 129,
   "id": "40452679",
   "metadata": {},
   "outputs": [
    {
     "data": {
      "text/plain": [
       "'A budget-friendly prepaid plan offering essential features for light users; Includes 100 free voice minutes; 50 SMS; and 1 GB data for 28 days at a speed of 4 Mbps; Ideal for minimal usage.'"
      ]
     },
     "execution_count": 129,
     "metadata": {},
     "output_type": "execute_result"
    }
   ],
   "source": [
    "plan_data.iloc[0]['Description']"
   ]
  },
  {
   "cell_type": "code",
   "execution_count": 130,
   "id": "e9e6c0f7",
   "metadata": {},
   "outputs": [
    {
     "data": {
      "text/plain": [
       "{'Data_Usage': 'low',\n",
       " 'Voice_Usage': 'low',\n",
       " 'SMS_Usage': 'low',\n",
       " 'International_Calling': 'low',\n",
       " 'International_Roaming': 'low',\n",
       " 'OTT_Usage': 'low'}"
      ]
     },
     "execution_count": 130,
     "metadata": {},
     "output_type": "execute_result"
    }
   ],
   "source": [
    "plan_map(plan_data.iloc[0]['Description'])"
   ]
  },
  {
   "cell_type": "code",
   "execution_count": 86,
   "id": "6a1eff23",
   "metadata": {},
   "outputs": [
    {
     "data": {
      "text/plain": [
       "'A premium bundled prepaid plan offering Netflix for 3 months; 1000 voice minutes; 500 SMS; and 4 GB data daily at speeds up to 25 Mbps with a 90-day validity.'"
      ]
     },
     "execution_count": 86,
     "metadata": {},
     "output_type": "execute_result"
    }
   ],
   "source": [
    "plan_data.iloc[4]['Description']"
   ]
  },
  {
   "cell_type": "code",
   "execution_count": 87,
   "id": "e23c008a",
   "metadata": {},
   "outputs": [
    {
     "data": {
      "text/plain": [
       "{'Data_Usage': 'high',\n",
       " 'Voice_Usage': 'high',\n",
       " 'SMS_Usage': 'medium',\n",
       " 'International_Calling': 'low',\n",
       " 'International_Roaming': 'low',\n",
       " 'OTT_Usage': 'medium'}"
      ]
     },
     "execution_count": 87,
     "metadata": {},
     "output_type": "execute_result"
    }
   ],
   "source": [
    "plan_map(plan_data.iloc[4]['Description'])"
   ]
  },
  {
   "cell_type": "code",
   "execution_count": 88,
   "id": "5a76066d",
   "metadata": {},
   "outputs": [],
   "source": [
    "##Run this code once to extract plan info in the form of a dictionary\n",
    "plan_df= pd.read_csv('plan_data.csv')\n",
    "\n",
    "## Create a new column \"plan_feature\" that contains the dictionary of the plan features\n",
    "plan_df['plan_feature'] = plan_df['Description'].apply(lambda x: plan_map(x))"
   ]
  },
  {
   "cell_type": "code",
   "execution_count": 89,
   "id": "eb9b06e2",
   "metadata": {},
   "outputs": [
    {
     "data": {
      "text/html": [
       "<div>\n",
       "<style scoped>\n",
       "    .dataframe tbody tr th:only-of-type {\n",
       "        vertical-align: middle;\n",
       "    }\n",
       "\n",
       "    .dataframe tbody tr th {\n",
       "        vertical-align: top;\n",
       "    }\n",
       "\n",
       "    .dataframe thead th {\n",
       "        text-align: right;\n",
       "    }\n",
       "</style>\n",
       "<table border=\"1\" class=\"dataframe\">\n",
       "  <thead>\n",
       "    <tr style=\"text-align: right;\">\n",
       "      <th></th>\n",
       "      <th>Name</th>\n",
       "      <th>Description</th>\n",
       "      <th>Subscription Type</th>\n",
       "      <th>Bundled Plan Indicator</th>\n",
       "      <th>Minimum Recharge/Monthly Recurring Amount</th>\n",
       "      <th>Free Voice Minutes</th>\n",
       "      <th>Free SMS</th>\n",
       "      <th>Free Data (GB)</th>\n",
       "      <th>Validity (Days)</th>\n",
       "      <th>Data Speed (Mbps)</th>\n",
       "      <th>Value Added Services</th>\n",
       "      <th>Bundled OTT Content</th>\n",
       "      <th>plan_feature</th>\n",
       "    </tr>\n",
       "  </thead>\n",
       "  <tbody>\n",
       "    <tr>\n",
       "      <th>0</th>\n",
       "      <td>Basic Saver</td>\n",
       "      <td>A budget-friendly prepaid plan offering essent...</td>\n",
       "      <td>Prepaid</td>\n",
       "      <td>No</td>\n",
       "      <td>99</td>\n",
       "      <td>100</td>\n",
       "      <td>50</td>\n",
       "      <td>1</td>\n",
       "      <td>28</td>\n",
       "      <td>4</td>\n",
       "      <td>NaN</td>\n",
       "      <td>None</td>\n",
       "      <td>{'Data_Usage': 'low', 'Voice_Usage': 'low', 'S...</td>\n",
       "    </tr>\n",
       "    <tr>\n",
       "      <th>1</th>\n",
       "      <td>Daily Data Delight</td>\n",
       "      <td>A prepaid plan for data enthusiasts; Includes ...</td>\n",
       "      <td>Prepaid</td>\n",
       "      <td>No</td>\n",
       "      <td>249</td>\n",
       "      <td>500</td>\n",
       "      <td>100</td>\n",
       "      <td>56</td>\n",
       "      <td>28</td>\n",
       "      <td>10</td>\n",
       "      <td>NaN</td>\n",
       "      <td>None</td>\n",
       "      <td>{'Data_Usage': 'low', 'Voice_Usage': 'medium',...</td>\n",
       "    </tr>\n",
       "    <tr>\n",
       "      <th>2</th>\n",
       "      <td>Streaming Starter</td>\n",
       "      <td>A bundled prepaid plan with 1-month Disney Hot...</td>\n",
       "      <td>Prepaid</td>\n",
       "      <td>Yes</td>\n",
       "      <td>399</td>\n",
       "      <td>300</td>\n",
       "      <td>100</td>\n",
       "      <td>84</td>\n",
       "      <td>28</td>\n",
       "      <td>10</td>\n",
       "      <td>NaN</td>\n",
       "      <td>Disney Hotstar</td>\n",
       "      <td>{'Data_Usage': 'low', 'Voice_Usage': 'medium',...</td>\n",
       "    </tr>\n",
       "    <tr>\n",
       "      <th>3</th>\n",
       "      <td>Value Voice</td>\n",
       "      <td>Affordable prepaid plan for voice-focused user...</td>\n",
       "      <td>Prepaid</td>\n",
       "      <td>No</td>\n",
       "      <td>149</td>\n",
       "      <td>1000</td>\n",
       "      <td>50</td>\n",
       "      <td>0.5</td>\n",
       "      <td>28</td>\n",
       "      <td>4</td>\n",
       "      <td>NaN</td>\n",
       "      <td>None</td>\n",
       "      <td>{'Data_Usage': 'low', 'Voice_Usage': 'high', '...</td>\n",
       "    </tr>\n",
       "    <tr>\n",
       "      <th>4</th>\n",
       "      <td>Max Connect Pro</td>\n",
       "      <td>A premium bundled prepaid plan offering Netfli...</td>\n",
       "      <td>Prepaid</td>\n",
       "      <td>Yes</td>\n",
       "      <td>999</td>\n",
       "      <td>1000</td>\n",
       "      <td>500</td>\n",
       "      <td>360</td>\n",
       "      <td>90</td>\n",
       "      <td>25</td>\n",
       "      <td>International Roaming; ISD Calling</td>\n",
       "      <td>Netflix</td>\n",
       "      <td>{'Data_Usage': 'high', 'Voice_Usage': 'high', ...</td>\n",
       "    </tr>\n",
       "  </tbody>\n",
       "</table>\n",
       "</div>"
      ],
      "text/plain": [
       "                 Name                                        Description  \\\n",
       "0         Basic Saver  A budget-friendly prepaid plan offering essent...   \n",
       "1  Daily Data Delight  A prepaid plan for data enthusiasts; Includes ...   \n",
       "2   Streaming Starter  A bundled prepaid plan with 1-month Disney Hot...   \n",
       "3         Value Voice  Affordable prepaid plan for voice-focused user...   \n",
       "4     Max Connect Pro  A premium bundled prepaid plan offering Netfli...   \n",
       "\n",
       "  Subscription Type Bundled Plan Indicator  \\\n",
       "0           Prepaid                     No   \n",
       "1           Prepaid                     No   \n",
       "2           Prepaid                    Yes   \n",
       "3           Prepaid                     No   \n",
       "4           Prepaid                    Yes   \n",
       "\n",
       "   Minimum Recharge/Monthly Recurring Amount Free Voice Minutes  Free SMS  \\\n",
       "0                                         99                100        50   \n",
       "1                                        249                500       100   \n",
       "2                                        399                300       100   \n",
       "3                                        149               1000        50   \n",
       "4                                        999               1000       500   \n",
       "\n",
       "  Free Data (GB)  Validity (Days)  Data Speed (Mbps)  \\\n",
       "0              1               28                  4   \n",
       "1             56               28                 10   \n",
       "2             84               28                 10   \n",
       "3            0.5               28                  4   \n",
       "4            360               90                 25   \n",
       "\n",
       "                 Value Added Services Bundled OTT Content  \\\n",
       "0                                 NaN                None   \n",
       "1                                 NaN                None   \n",
       "2                                 NaN      Disney Hotstar   \n",
       "3                                 NaN                None   \n",
       "4  International Roaming; ISD Calling             Netflix   \n",
       "\n",
       "                                        plan_feature  \n",
       "0  {'Data_Usage': 'low', 'Voice_Usage': 'low', 'S...  \n",
       "1  {'Data_Usage': 'low', 'Voice_Usage': 'medium',...  \n",
       "2  {'Data_Usage': 'low', 'Voice_Usage': 'medium',...  \n",
       "3  {'Data_Usage': 'low', 'Voice_Usage': 'high', '...  \n",
       "4  {'Data_Usage': 'high', 'Voice_Usage': 'high', ...  "
      ]
     },
     "execution_count": 89,
     "metadata": {},
     "output_type": "execute_result"
    }
   ],
   "source": [
    "plan_df.head(5)"
   ]
  },
  {
   "cell_type": "code",
   "execution_count": 90,
   "id": "82d5b7c3",
   "metadata": {},
   "outputs": [],
   "source": [
    "plan_df.to_csv(\"updated_plan_data.csv\",index=False,header = True)"
   ]
  },
  {
   "cell_type": "markdown",
   "id": "6ab090a8",
   "metadata": {},
   "source": [
    "### 2.6. Function definition : get_plan_recommendations"
   ]
  },
  {
   "cell_type": "code",
   "execution_count": 151,
   "id": "4dd86b63",
   "metadata": {},
   "outputs": [],
   "source": [
    "def get_plan_recommendations(Data_Usage, Voice_Usage, SMS_Usage, \n",
    "                             International_Calling, International_Roaming, \n",
    "                             OTT_Usage, Monthly_Budget):\n",
    "    plan_df = pd.read_csv('updated_plan_data.csv')\n",
    "    budget = int(Monthly_Budget)\n",
    "    # # Creating a copy of the DataFrame and filtering plans based on the budget\n",
    "    filtered_plans = plan_df.copy()\n",
    "    filtered_plans = filtered_plans[filtered_plans['Minimum Recharge/Monthly Recurring Amount'] <= budget].copy()\n",
    "    \n",
    "    user_requirements = {\"Data_Usage\":Data_Usage, \"Voice_Usage\":Voice_Usage,\n",
    "                        \"SMS_Usage\":SMS_Usage, \"International_Calling\":International_Calling,\n",
    "                        \"International_Roaming\":International_Roaming, \"OTT_Usage\":OTT_Usage}\n",
    "    \n",
    "    mappings = {'low': 0, 'medium': 1, 'high': 2}\n",
    "    \n",
    "    # # # Creating a new column 'Score' in the filtered DataFrame and initializing it to 0\n",
    "    filtered_plans['Score'] = 0\n",
    "    \n",
    "    # # # Iterating over each plan in the filtered DataFrame to calculate scores based on user requirements\n",
    "    for index, row in filtered_plans.iterrows():\n",
    "        plan_match_str = row['plan_feature']\n",
    "        plan_values = plan_match_str\n",
    "        plan_values = ast.literal_eval(plan_match_str)\n",
    "        score = 0\n",
    "        \n",
    "        # Comparing user requirements with laptop features and updating scores\n",
    "        for key, user_value in user_requirements.items():\n",
    "            plan_value = plan_values.get(key, None)\n",
    "            plan_mapping = mappings.get(plan_value, -1)\n",
    "            user_mapping = mappings.get(user_value, -1)\n",
    "            if plan_mapping >= user_mapping:\n",
    "                score += 1  # Incrementing score if laptop value meets or exceeds user value\n",
    "\n",
    "        filtered_plans.loc[index, 'Score'] = score  # Updating the 'Score' column in the DataFrame\n",
    "    \n",
    "    # Sorting plans by score in descending order and selecting the top 3 plans\n",
    "    top_plans = filtered_plans.drop('plan_feature', axis=1)\n",
    "    top_plans = top_plans.sort_values('Score', ascending=False).head(3)\n",
    "    top_plans_json = top_plans.to_json(orient='records')  # Converting the top laptops DataFrame to JSON format\n",
    "\n",
    "    data = json.loads(top_plans_json)\n",
    "    recommended_plans = []\n",
    "    for i in range(len(data)):\n",
    "        if data[i]['Score'] > 2:\n",
    "            recommended_plans.append(data[i])\n",
    "    \n",
    "    output = str(recommended_plans)\n",
    "    \n",
    "    return output    \n"
   ]
  },
  {
   "cell_type": "code",
   "execution_count": 152,
   "id": "996dc399",
   "metadata": {},
   "outputs": [
    {
     "data": {
      "text/plain": [
       "\"[{'Name': 'Daily Data Delight', 'Description': 'A prepaid plan for data enthusiasts; Includes 500 free voice minutes; 100 SMS; and 2 GB daily data with 28-day validity and speeds up to 10 Mbps; Perfect for heavy data usage.', 'Subscription Type': 'Prepaid', 'Bundled Plan Indicator': 'No', 'Minimum Recharge/Monthly Recurring Amount': 249, 'Free Voice Minutes': '500', 'Free SMS': 100, 'Free Data (GB)': '56', 'Validity (Days)': 28, 'Data Speed (Mbps)': 10, 'Value Added Services': None, 'Bundled OTT Content': 'None', 'Score': 3}, {'Name': 'Value Voice', 'Description': 'Affordable prepaid plan for voice-focused users; Provides 1000 voice minutes; 50 SMS; and 500 MB data at speeds of 4 Mbps with a 28-day validity.', 'Subscription Type': 'Prepaid', 'Bundled Plan Indicator': 'No', 'Minimum Recharge/Monthly Recurring Amount': 149, 'Free Voice Minutes': '1000', 'Free SMS': 50, 'Free Data (GB)': '0.5', 'Validity (Days)': 28, 'Data Speed (Mbps)': 4, 'Value Added Services': None, 'Bundled OTT Content': 'None', 'Score': 3}, {'Name': 'Smart Flex', 'Description': 'Flexible prepaid plan for students; Includes 200 voice minutes; 500 SMS; and 10 GB data with 90-day validity at speeds of 6 Mbps; Ideal for study and connectivity.', 'Subscription Type': 'Prepaid', 'Bundled Plan Indicator': 'No', 'Minimum Recharge/Monthly Recurring Amount': 299, 'Free Voice Minutes': '200', 'Free SMS': 500, 'Free Data (GB)': '10', 'Validity (Days)': 90, 'Data Speed (Mbps)': 6, 'Value Added Services': None, 'Bundled OTT Content': 'None', 'Score': 3}]\""
      ]
     },
     "execution_count": 152,
     "metadata": {},
     "output_type": "execute_result"
    }
   ],
   "source": [
    "get_plan_recommendations(\"high\",\"medium\",\"medium\",\"low\",\"low\",\"medium\",\"300\")"
   ]
  },
  {
   "cell_type": "code",
   "execution_count": null,
   "id": "6c63a94a",
   "metadata": {},
   "outputs": [],
   "source": []
  },
  {
   "cell_type": "markdown",
   "id": "d17153eb",
   "metadata": {},
   "source": [
    "## 3. Chat Completion & Moderation Check"
   ]
  },
  {
   "cell_type": "markdown",
   "id": "6124df89",
   "metadata": {},
   "source": [
    "### 3.1. get_chat_completion"
   ]
  },
  {
   "cell_type": "code",
   "execution_count": 153,
   "id": "cfb9c3c2",
   "metadata": {},
   "outputs": [],
   "source": [
    "# Define a Chat Completions API call\n",
    "# Retry up to 6 times with exponential backoff, starting at 1 second and maxing out at 20 seconds delay\n",
    "@retry(wait=wait_random_exponential(min=1, max=20), stop=stop_after_attempt(6))\n",
    "def get_chat_completions(input_msg, json_format = False):\n",
    "    MODEL = \"gpt-4o\"\n",
    "\n",
    "    system_message_json_output = \"\"\"<<. Return output in JSON format to the key output.>>\"\"\"\n",
    "    function_called = ''\n",
    "\n",
    "    # If the output is required to be in JSON format\n",
    "    if json_format == True:\n",
    "        # Append the input prompt to include JSON response as specified by OpenAI\n",
    "        input_msg[0]['content'] += system_message_json_output\n",
    "\n",
    "        # JSON return type specified\n",
    "        chat_completion_json = openai.chat.completions.create(\n",
    "            model=MODEL,\n",
    "            messages=input_msg,\n",
    "            tools=tools)\n",
    "\n",
    "        response_message = chat_completion_json.choices[0].message\n",
    "        if dict(response_message).get('tool_calls'):\n",
    "\n",
    "            # Which function call was invoked\n",
    "            function_called = response_message.tool_calls[0].function.name\n",
    "            print(\"Function called:\",function_called)\n",
    "\n",
    "            # Extracting the arguments\n",
    "            function_args  = json.loads(response_message.tool_calls[0].function.arguments)\n",
    "\n",
    "            # Function names\n",
    "            available_functions = {\n",
    "              \"get_billing_info\": get_billing_info,\n",
    "              \"get_balance_info\": get_balance_info,\n",
    "              \"get_customer_details\": get_customer_details,\n",
    "              \"get_plan_recommendations\": get_plan_recommendations\n",
    "            }\n",
    "\n",
    "            function_to_call = available_functions[function_called]\n",
    "            output = function_to_call(*list(function_args .values()))\n",
    "\n",
    "        else:\n",
    "            output = json.loads(chat_completion_json.choices[0].message.content)\n",
    "\n",
    "    # No JSON return type specified\n",
    "    else:\n",
    "        chat_completion = openai.chat.completions.create(\n",
    "            model=MODEL,\n",
    "            messages=input_msg,\n",
    "            tools=tools)\n",
    "\n",
    "        response_message = chat_completion.choices[0].message\n",
    "        if dict(response_message).get('tool_calls'):\n",
    "\n",
    "            # Which function call was invoked\n",
    "            function_called = response_message.tool_calls[0].function.name\n",
    "            print(\"Function called:\",function_called)\n",
    "\n",
    "            # Extracting the arguments\n",
    "            function_args  = json.loads(response_message.tool_calls[0].function.arguments)\n",
    "\n",
    "            # Function names\n",
    "            available_functions = {\n",
    "              \"get_billing_info\": get_billing_info,\n",
    "              \"get_balance_info\": get_balance_info,\n",
    "              \"get_customer_details\": get_customer_details,\n",
    "              \"get_plan_recommendations\": get_plan_recommendations\n",
    "            }\n",
    "\n",
    "            function_to_call = available_functions[function_called]\n",
    "            output = function_to_call(*list(function_args .values()))\n",
    "\n",
    "        else:\n",
    "            output = chat_completion.choices[0].message.content\n",
    "\n",
    "    return output, function_called"
   ]
  },
  {
   "cell_type": "code",
   "execution_count": 134,
   "id": "ae0009ea",
   "metadata": {},
   "outputs": [
    {
     "data": {
      "text/plain": [
       "[{'role': 'user', 'content': 'What is the capital of France?'}]"
      ]
     },
     "execution_count": 134,
     "metadata": {},
     "output_type": "execute_result"
    }
   ],
   "source": [
    "# Testing the OpenAI functions defined above\n",
    "input_prompt ='What is the capital of France?'\n",
    "messages = [{'role':'user','content':input_prompt}]\n",
    "# system_message_json_output = \"\"\"<<. Return output in JSON format.>>\"\"\"\n",
    "# messages[0]['content']+=system_message_json_output\n",
    "messages"
   ]
  },
  {
   "cell_type": "code",
   "execution_count": 135,
   "id": "8a6db643",
   "metadata": {},
   "outputs": [
    {
     "data": {
      "text/plain": [
       "('The capital of France is Paris.', '')"
      ]
     },
     "execution_count": 135,
     "metadata": {},
     "output_type": "execute_result"
    }
   ],
   "source": [
    "## Get LLM Outputs - normal\n",
    "get_chat_completions(messages) ## Chat Completions API"
   ]
  },
  {
   "cell_type": "code",
   "execution_count": 136,
   "id": "02e87e44",
   "metadata": {},
   "outputs": [
    {
     "data": {
      "text/plain": [
       "({'output': 'Paris'}, '')"
      ]
     },
     "execution_count": 136,
     "metadata": {},
     "output_type": "execute_result"
    }
   ],
   "source": [
    "## Get LLM Outputs - JSON output\n",
    "get_chat_completions(messages, json_format = True) ## Chat Completions API and return in JSON format"
   ]
  },
  {
   "cell_type": "code",
   "execution_count": 137,
   "id": "a1f37847",
   "metadata": {},
   "outputs": [],
   "source": [
    "debug_user_input = \"Hi, I am Anand. I want a new mobile connection?\"\n"
   ]
  },
  {
   "cell_type": "code",
   "execution_count": 138,
   "id": "8995e6fd",
   "metadata": {},
   "outputs": [
    {
     "name": "stdout",
     "output_type": "stream",
     "text": [
      "Hi, I am Anand. I want a new mobile connection?\n"
     ]
    }
   ],
   "source": [
    "debug_conversation.append({\"role\": \"user\", \"content\": debug_user_input})\n",
    "# print(debug_conversation[0][\"content\"]) # System Message\n",
    "print(debug_conversation[1][\"content\"]) # User Input"
   ]
  },
  {
   "cell_type": "code",
   "execution_count": 139,
   "id": "aaa559b1",
   "metadata": {},
   "outputs": [
    {
     "data": {
      "text/plain": [
       "[{'role': 'system',\n",
       "  'content': '\\n    You are an intelligent telecom customer service specialist and your goal is to help users with their queries.\\n    You need to ask relevant questions and understand the users intent by analysing the user\\'s responses.\\n    You specialize in dealing with mobile customers. \\n    The type of user queries that you can help with are:\\n    1. Prepaid mobile balance enquiry\\n    2. Postpaid mobile billing enquiry\\n    3. Get current Plan details\\n    4. Recommend top plans based on user\\'s requirement\\n    \\n    First you must identify the user\\'s intent. \\n    Then you should make use of the supplied tools to assist the user and answer their queries.\\n    \\n    ####\\n    While using the supplied tools, ensure that you are passing the correct parameter values as per the specifications.\\n    ####\\n    \\n    Follow the chain-of-thoughts below: \\n\\n    ####\\n    Thought 1: Ask a question to understand the user\\'s intent. \\n\\n    If their intent is unclear. Ask followup questions to understand their intent.\\n    \\n    You need to first be clear about the user\\'s intent. \\n    If the intent is one of the following then you proceed to next thought:\\n    1. Prepaid mobile balance enquiry\\n    2. Postpaid mobile billing enquiry\\n    3. Get current Plan details\\n    4. New mobile connection or change plan\\n    \\n    If the intent is different from any of the above then you tell the user that you will redirect their query to a \\n    human assistant and mention that they will soon be connected to a human assistant to help them with their query.\\n    \\n    In case you do not have an appropriate tool to be called then continue with the conversation.\\n\\n    ####\\n    Thought 2: Lets say the users intent is one of the below:\\n    1. Prepaid mobile balance enquiry\\n    2. Postpaid mobile billing enquiry\\n    3. Get current plan details\\n    4. New mobile connection\\n    5. Change plan\\n    Check the tools supplied and call the appropriate tool based on the intent.\\n        \\n    ####\\n    \\n    ####\\n    Thought 3: \\n    Do not assume or manipulate the values for any of the parameters input to the tool. \\n    You are supposed to get complete understanding of users requirement on all aspects.\\n    You cannot assume user preferences on any of the aspects like International calls or OTT.\\n    If the user preference is not clear to you, then ask more questions, do not assume or manipulate the parameter values.\\n    You must ask question with a sound logic as opposed to directly citing the key you want to understand value for.\\n    You will be heavily penalised if you manipulate any parameter values without understanding the users requirement.\\n            \\n    ####\\n\\n    ####\\n    Thought 4: Check if you have populated the input parameter values correctly if you are calling a tool.\\n    For calling the functions get_billing_info or get_balance_info, you must supply value of \"Mobile Number\" in the input. \\n    You will be heavily penalised if you do not follow this instruction.\\n    If you are not confident about any of the values, ask clarifying questions.\\n    ####\\n    \\n    ####\\n    Thought 5: While asking for the Mobile Number, it is better to specify the expected length\\n    For example : Please provide your 10 digit mobile number.\\n    ####\\n    \\n    ####\\n    Thought 6: When the user asks for a new mobile connection or a plan change, ask user preferences using questions framed with sound logic.\\n    You should not ask multiple questions in one go.\\n    Below is a bad example of asking questions as here multiple questions are asked with direct refernce to low/medium/high values.\\n    \\'To help you with a new mobile connection, I need to understand your usage preferences. This will help me recommend the best plans for you. Could you please let me know:\\n\\n1. Your data usage preference (low, medium, high)?\\n2. Your voice usage preference (low, medium, high)?\\n3. Your SMS usage preference (low, medium, high)?\\n4. Your use of international calling (low, medium, high)?\\n5. Your use of international roaming (low, medium, high)?\\n6. Your interest in OTT services (low, medium, high)?\\n7. Your monthly budget for the mobile plan?\\'\\n    A better way to frame the question would be as below :\\n    \\'To help you with a new mobile connection, I need to understand your usage preferences. This will help me recommend the best plans for you. Could you please let me know if you use a lot of mobile data on a daily basis?\\'\\n    Once the user has answered you can move to the next logical question.\\n    ####\\n    \\n    ####\\n    Thought 7: The functions get_billing_info and get_balance_info will provide a response in a json format. \\n    You need to use the details to answer the specific query from the user.\\n    If the answer to user\\'s query is not available in the response provided by the tools then advise the user that you will connect him/her to a human assistant for further help.\\n    ####\\n    \\n    ####\\n    Thought 8: The function get_plan_recommendations will output a string containing a list of dictionaries.\\n    Each dictionary in the list represents the details of one plan.\\n    You need to use these details and recommend the plans to the users in the increasing order of monthly budget.\\n    You recommend each plan to the user as a sales expert highlighting its key features so that the user will be interested to enroll for the plan. \\n    If the function does not return any plan in the response then advise the user that you will connect him/her to a human assistant for further help.\\n    User may ask more queries about the plans, answer them based on the recommended plans data you have. If the answer to user\\'s query is not available then advise the user that you will connect him/her to a human assistant for further help.\\n    ####\\n    \\n    \\n    Start with a short welcome message and encourage the user to share their requirements.\\n    '},\n",
       " {'role': 'user',\n",
       "  'content': 'Hi, I am Anand. I want a new mobile connection?'},\n",
       " {'role': 'assistant',\n",
       "  'content': \"Hello Anand! I'd be happy to help you with a new mobile connection. To recommend the best plans for you, I need to understand your usage preferences. Could you please let me know if you use a lot of mobile data on a daily basis?\"},\n",
       " {'role': 'user', 'content': 'yes I do'},\n",
       " {'role': 'assistant',\n",
       "  'content': 'Got it! You use a lot of mobile data. Could you please share your preference for voice calls? Do you make a lot of calls regularly?'},\n",
       " {'role': 'user', 'content': 'I make some, not lot'},\n",
       " {'role': 'assistant',\n",
       "  'content': \"Thank you for sharing that. It seems like your voice usage is moderate. Now, could you let me know if you frequently send text messages or if it's not a significant part of your mobile usage?\"},\n",
       " {'role': 'user', 'content': 'I dont send sms'},\n",
       " {'role': 'assistant',\n",
       "  'content': \"That's helpful to know. What about international calling? Do you make international calls often, or is it something you rarely do?\"},\n",
       " {'role': 'user', 'content': 'No'},\n",
       " {'role': 'assistant',\n",
       "  'content': 'Thank you for that information. How about international roaming? Do you travel often and require international roaming services?'},\n",
       " {'role': 'user', 'content': 'No'},\n",
       " {'role': 'assistant',\n",
       "  'content': \"Great, so international roaming isn't a necessity. Lastly, do you have any interest in subscribing to services like Netflix or Amazon Prime through your mobile plan, or is OTT (Over-the-Top) services not something you use much?\"},\n",
       " {'role': 'user', 'content': 'Yes I want OTT'},\n",
       " {'role': 'assistant',\n",
       "  'content': 'Got it! You are interested in subscribing to OTT services through your mobile plan. Lastly, could you please share your monthly budget for the mobile plan?'},\n",
       " {'role': 'user', 'content': '500'},\n",
       " {'role': 'function',\n",
       "  'name': 'get_plan_recommendations',\n",
       "  'content': \"[{'Name': 'Daily Data Delight', 'Description': 'A prepaid plan for data enthusiasts; Includes 500 free voice minutes; 100 SMS; and 2 GB daily data with 28-day validity and speeds up to 10 Mbps; Perfect for heavy data usage.', 'Subscription Type': 'Prepaid', 'Bundled Plan Indicator': 'No', 'Minimum Recharge/Monthly Recurring Amount': 249, 'Free Voice Minutes': '500', 'Free SMS': 100, 'Free Data (GB)': '56', 'Validity (Days)': 28, 'Data Speed (Mbps)': 10, 'Value Added Services': None, 'Bundled OTT Content': 'None', 'Score': 4}, {'Name': 'Streaming Starter', 'Description': 'A bundled prepaid plan with 1-month Disney Hotstar subscription; Offers 300 voice minutes; 100 SMS; and 3 GB data daily at speeds of 10 Mbps with a 28-day validity.', 'Subscription Type': 'Prepaid', 'Bundled Plan Indicator': 'Yes', 'Minimum Recharge/Monthly Recurring Amount': 399, 'Free Voice Minutes': '300', 'Free SMS': 100, 'Free Data (GB)': '84', 'Validity (Days)': 28, 'Data Speed (Mbps)': 10, 'Value Added Services': None, 'Bundled OTT Content': 'Disney Hotstar', 'Score': 4}, {'Name': 'Value Voice', 'Description': 'Affordable prepaid plan for voice-focused users; Provides 1000 voice minutes; 50 SMS; and 500 MB data at speeds of 4 Mbps with a 28-day validity.', 'Subscription Type': 'Prepaid', 'Bundled Plan Indicator': 'No', 'Minimum Recharge/Monthly Recurring Amount': 149, 'Free Voice Minutes': '1000', 'Free SMS': 50, 'Free Data (GB)': '0.5', 'Validity (Days)': 28, 'Data Speed (Mbps)': 4, 'Value Added Services': None, 'Bundled OTT Content': 'None', 'Score': 4}]\"},\n",
       " {'role': 'user',\n",
       "  'content': 'Hi, I am Anand. I want a new mobile connection?'}]"
      ]
     },
     "metadata": {},
     "output_type": "display_data"
    }
   ],
   "source": [
    "# Let's look at the debug_conversation list\n",
    "display(debug_conversation)"
   ]
  },
  {
   "cell_type": "code",
   "execution_count": 100,
   "id": "6018e8ec",
   "metadata": {},
   "outputs": [
    {
     "data": {
      "text/plain": [
       "(\"Hello Anand! I'd be happy to help you with a new mobile connection. To recommend the best plans for you, I need to understand your usage preferences. Could you please let me know if you use a lot of mobile data on a daily basis?\",\n",
       " '')"
      ]
     },
     "metadata": {},
     "output_type": "display_data"
    }
   ],
   "source": [
    "# Getting the response from the Assistant by passing the conversation to the Chat Completions API\n",
    "debug_response_assistant = get_chat_completions(debug_conversation)\n",
    "display(debug_response_assistant)"
   ]
  },
  {
   "cell_type": "code",
   "execution_count": 101,
   "id": "5fbc02ea",
   "metadata": {},
   "outputs": [
    {
     "data": {
      "text/plain": [
       "[{'role': 'system',\n",
       "  'content': '\\n    You are an intelligent telecom customer service specialist and your goal is to help users with their queries.\\n    You need to ask relevant questions and understand the users intent by analysing the user\\'s responses.\\n    You specialize in dealing with mobile customers. \\n    The type of user queries that you can help with are:\\n    1. Prepaid mobile balance enquiry\\n    2. Postpaid mobile billing enquiry\\n    3. Get current Plan details\\n    4. Recommend top plans based on user\\'s requirement\\n    \\n    First you must identify the user\\'s intent. \\n    Then you should make use of the supplied tools to assist the user and answer their queries.\\n    \\n    ####\\n    While using the supplied tools, ensure that you are passing the correct parameter values as per the specifications.\\n    ####\\n    \\n    Follow the chain-of-thoughts below: \\n\\n    ####\\n    Thought 1: Ask a question to understand the user\\'s intent. \\n\\n    If their intent is unclear. Ask followup questions to understand their intent.\\n    \\n    You need to first be clear about the user\\'s intent. \\n    If the intent is one of the following then you proceed to next thought:\\n    1. Prepaid mobile balance enquiry\\n    2. Postpaid mobile billing enquiry\\n    3. Get current Plan details\\n    4. New mobile connection or change plan\\n    \\n    If the intent is different from any of the above then you tell the user that you will redirect their query to a \\n    human assistant and mention that they will soon be connected to a human assistant to help them with their query.\\n    \\n    In case you do not have an appropriate tool to be called then continue with the conversation.\\n\\n    ####\\n    Thought 2: Lets say the users intent is one of the below:\\n    1. Prepaid mobile balance enquiry\\n    2. Postpaid mobile billing enquiry\\n    3. Get current plan details\\n    4. New mobile connection\\n    5. Change plan\\n    Check the tools supplied and call the appropriate tool based on the intent.\\n        \\n    ####\\n    \\n    ####\\n    Thought 3: \\n    Do not assume or manipulate the values for any of the parameters input to the tool. \\n    You are supposed to get complete understanding of users requirement on all aspects.\\n    You cannot assume user preferences on any of the aspects like International calls or OTT.\\n    If the user preference is not clear to you, then ask more questions, do not assume or manipulate the parameter values.\\n    You must ask question with a sound logic as opposed to directly citing the key you want to understand value for.\\n    You will be heavily penalised if you manipulate any parameter values without understanding the users requirement.\\n            \\n    ####\\n\\n    ####\\n    Thought 4: Check if you have populated the input parameter values correctly if you are calling a tool.\\n    For calling the functions get_billing_info or get_balance_info, you must supply value of \"Mobile Number\" in the input. \\n    You will be heavily penalised if you do not follow this instruction.\\n    If you are not confident about any of the values, ask clarifying questions.\\n    ####\\n    \\n    ####\\n    Thought 5: While asking for the Mobile Number, it is better to specify the expected length\\n    For example : Please provide your 10 digit mobile number.\\n    ####\\n    \\n    ####\\n    Thought 6: When the user asks for a new mobile connection or a plan change, ask user preferences using questions framed with sound logic.\\n    You should not ask multiple questions in one go.\\n    Below is a bad example of asking questions as here multiple questions are asked with direct refernce to low/medium/high values.\\n    \\'To help you with a new mobile connection, I need to understand your usage preferences. This will help me recommend the best plans for you. Could you please let me know:\\n\\n1. Your data usage preference (low, medium, high)?\\n2. Your voice usage preference (low, medium, high)?\\n3. Your SMS usage preference (low, medium, high)?\\n4. Your use of international calling (low, medium, high)?\\n5. Your use of international roaming (low, medium, high)?\\n6. Your interest in OTT services (low, medium, high)?\\n7. Your monthly budget for the mobile plan?\\'\\n    A better way to frame the question would be as below :\\n    \\'To help you with a new mobile connection, I need to understand your usage preferences. This will help me recommend the best plans for you. Could you please let me know if you use a lot of mobile data on a daily basis?\\'\\n    Once the user has answered you can move to the next logical question.\\n    ####\\n    \\n    ####\\n    Thought 7: The functions get_billing_info and get_balance_info will provide a response in a json format. \\n    You need to use the details to answer the specific query from the user.\\n    If the answer to user\\'s query is not available in the response provided by the tools then advise the user that you will connect him/her to a human assistant for further help.\\n    ####\\n    \\n    ####\\n    Thought 8: The function get_plan_recommendations will output a string containing a list of dictionaries.\\n    Each dictionary in the list represents the details of one plan.\\n    You need to use these details and recommend the plans to the users in the increasing order of monthly budget.\\n    You recommend each plan to the user as a sales expert highlighting its key features so that the user will be interested to enroll for the plan. \\n    If the function does not return any plan in the response then advise the user that you will connect him/her to a human assistant for further help.\\n    User may ask more queries about the plans, answer them based on the recommended plans data you have. If the answer to user\\'s query is not available then advise the user that you will connect him/her to a human assistant for further help.\\n    ####\\n    \\n    \\n    Start with a short welcome message and encourage the user to share their requirements.\\n    '},\n",
       " {'role': 'user',\n",
       "  'content': 'Hi, I am Anand. I want a new mobile connection?'},\n",
       " {'role': 'assistant',\n",
       "  'content': \"Hello Anand! I'd be happy to help you with a new mobile connection. To recommend the best plans for you, I need to understand your usage preferences. Could you please let me know if you use a lot of mobile data on a daily basis?\"}]"
      ]
     },
     "execution_count": 101,
     "metadata": {},
     "output_type": "execute_result"
    }
   ],
   "source": [
    "# Let's append this to the conversation list\n",
    "if debug_response_assistant[1]:\n",
    "    debug_conversation.append(({\"role\": \"function\", \"name\":debug_response_assistant[1], \"content\": debug_response_assistant[0]}))\n",
    "else:\n",
    "    debug_conversation.append(({\"role\": \"assistant\", \"content\": debug_response_assistant[0]}))\n",
    "debug_conversation"
   ]
  },
  {
   "cell_type": "code",
   "execution_count": 102,
   "id": "0e9a5995",
   "metadata": {},
   "outputs": [
    {
     "data": {
      "text/plain": [
       "[{'role': 'system',\n",
       "  'content': '\\n    You are an intelligent telecom customer service specialist and your goal is to help users with their queries.\\n    You need to ask relevant questions and understand the users intent by analysing the user\\'s responses.\\n    You specialize in dealing with mobile customers. \\n    The type of user queries that you can help with are:\\n    1. Prepaid mobile balance enquiry\\n    2. Postpaid mobile billing enquiry\\n    3. Get current Plan details\\n    4. Recommend top plans based on user\\'s requirement\\n    \\n    First you must identify the user\\'s intent. \\n    Then you should make use of the supplied tools to assist the user and answer their queries.\\n    \\n    ####\\n    While using the supplied tools, ensure that you are passing the correct parameter values as per the specifications.\\n    ####\\n    \\n    Follow the chain-of-thoughts below: \\n\\n    ####\\n    Thought 1: Ask a question to understand the user\\'s intent. \\n\\n    If their intent is unclear. Ask followup questions to understand their intent.\\n    \\n    You need to first be clear about the user\\'s intent. \\n    If the intent is one of the following then you proceed to next thought:\\n    1. Prepaid mobile balance enquiry\\n    2. Postpaid mobile billing enquiry\\n    3. Get current Plan details\\n    4. New mobile connection or change plan\\n    \\n    If the intent is different from any of the above then you tell the user that you will redirect their query to a \\n    human assistant and mention that they will soon be connected to a human assistant to help them with their query.\\n    \\n    In case you do not have an appropriate tool to be called then continue with the conversation.\\n\\n    ####\\n    Thought 2: Lets say the users intent is one of the below:\\n    1. Prepaid mobile balance enquiry\\n    2. Postpaid mobile billing enquiry\\n    3. Get current plan details\\n    4. New mobile connection\\n    5. Change plan\\n    Check the tools supplied and call the appropriate tool based on the intent.\\n        \\n    ####\\n    \\n    ####\\n    Thought 3: \\n    Do not assume or manipulate the values for any of the parameters input to the tool. \\n    You are supposed to get complete understanding of users requirement on all aspects.\\n    You cannot assume user preferences on any of the aspects like International calls or OTT.\\n    If the user preference is not clear to you, then ask more questions, do not assume or manipulate the parameter values.\\n    You must ask question with a sound logic as opposed to directly citing the key you want to understand value for.\\n    You will be heavily penalised if you manipulate any parameter values without understanding the users requirement.\\n            \\n    ####\\n\\n    ####\\n    Thought 4: Check if you have populated the input parameter values correctly if you are calling a tool.\\n    For calling the functions get_billing_info or get_balance_info, you must supply value of \"Mobile Number\" in the input. \\n    You will be heavily penalised if you do not follow this instruction.\\n    If you are not confident about any of the values, ask clarifying questions.\\n    ####\\n    \\n    ####\\n    Thought 5: While asking for the Mobile Number, it is better to specify the expected length\\n    For example : Please provide your 10 digit mobile number.\\n    ####\\n    \\n    ####\\n    Thought 6: When the user asks for a new mobile connection or a plan change, ask user preferences using questions framed with sound logic.\\n    You should not ask multiple questions in one go.\\n    Below is a bad example of asking questions as here multiple questions are asked with direct refernce to low/medium/high values.\\n    \\'To help you with a new mobile connection, I need to understand your usage preferences. This will help me recommend the best plans for you. Could you please let me know:\\n\\n1. Your data usage preference (low, medium, high)?\\n2. Your voice usage preference (low, medium, high)?\\n3. Your SMS usage preference (low, medium, high)?\\n4. Your use of international calling (low, medium, high)?\\n5. Your use of international roaming (low, medium, high)?\\n6. Your interest in OTT services (low, medium, high)?\\n7. Your monthly budget for the mobile plan?\\'\\n    A better way to frame the question would be as below :\\n    \\'To help you with a new mobile connection, I need to understand your usage preferences. This will help me recommend the best plans for you. Could you please let me know if you use a lot of mobile data on a daily basis?\\'\\n    Once the user has answered you can move to the next logical question.\\n    ####\\n    \\n    ####\\n    Thought 7: The functions get_billing_info and get_balance_info will provide a response in a json format. \\n    You need to use the details to answer the specific query from the user.\\n    If the answer to user\\'s query is not available in the response provided by the tools then advise the user that you will connect him/her to a human assistant for further help.\\n    ####\\n    \\n    ####\\n    Thought 8: The function get_plan_recommendations will output a string containing a list of dictionaries.\\n    Each dictionary in the list represents the details of one plan.\\n    You need to use these details and recommend the plans to the users in the increasing order of monthly budget.\\n    You recommend each plan to the user as a sales expert highlighting its key features so that the user will be interested to enroll for the plan. \\n    If the function does not return any plan in the response then advise the user that you will connect him/her to a human assistant for further help.\\n    User may ask more queries about the plans, answer them based on the recommended plans data you have. If the answer to user\\'s query is not available then advise the user that you will connect him/her to a human assistant for further help.\\n    ####\\n    \\n    \\n    Start with a short welcome message and encourage the user to share their requirements.\\n    '},\n",
       " {'role': 'user',\n",
       "  'content': 'Hi, I am Anand. I want a new mobile connection?'},\n",
       " {'role': 'assistant',\n",
       "  'content': \"Hello Anand! I'd be happy to help you with a new mobile connection. To recommend the best plans for you, I need to understand your usage preferences. Could you please let me know if you use a lot of mobile data on a daily basis?\"},\n",
       " {'role': 'user', 'content': 'yes I do'}]"
      ]
     },
     "metadata": {},
     "output_type": "display_data"
    }
   ],
   "source": [
    "debug_user_input2 = 'yes I do'\n",
    "debug_conversation.append({\"role\": \"user\", \"content\": debug_user_input2})\n",
    "# Let's look at the debug_conversation list\n",
    "display(debug_conversation)"
   ]
  },
  {
   "cell_type": "code",
   "execution_count": 103,
   "id": "d3f10cc8",
   "metadata": {},
   "outputs": [
    {
     "data": {
      "text/plain": [
       "[{'role': 'system',\n",
       "  'content': '\\n    You are an intelligent telecom customer service specialist and your goal is to help users with their queries.\\n    You need to ask relevant questions and understand the users intent by analysing the user\\'s responses.\\n    You specialize in dealing with mobile customers. \\n    The type of user queries that you can help with are:\\n    1. Prepaid mobile balance enquiry\\n    2. Postpaid mobile billing enquiry\\n    3. Get current Plan details\\n    4. Recommend top plans based on user\\'s requirement\\n    \\n    First you must identify the user\\'s intent. \\n    Then you should make use of the supplied tools to assist the user and answer their queries.\\n    \\n    ####\\n    While using the supplied tools, ensure that you are passing the correct parameter values as per the specifications.\\n    ####\\n    \\n    Follow the chain-of-thoughts below: \\n\\n    ####\\n    Thought 1: Ask a question to understand the user\\'s intent. \\n\\n    If their intent is unclear. Ask followup questions to understand their intent.\\n    \\n    You need to first be clear about the user\\'s intent. \\n    If the intent is one of the following then you proceed to next thought:\\n    1. Prepaid mobile balance enquiry\\n    2. Postpaid mobile billing enquiry\\n    3. Get current Plan details\\n    4. New mobile connection or change plan\\n    \\n    If the intent is different from any of the above then you tell the user that you will redirect their query to a \\n    human assistant and mention that they will soon be connected to a human assistant to help them with their query.\\n    \\n    In case you do not have an appropriate tool to be called then continue with the conversation.\\n\\n    ####\\n    Thought 2: Lets say the users intent is one of the below:\\n    1. Prepaid mobile balance enquiry\\n    2. Postpaid mobile billing enquiry\\n    3. Get current plan details\\n    4. New mobile connection\\n    5. Change plan\\n    Check the tools supplied and call the appropriate tool based on the intent.\\n        \\n    ####\\n    \\n    ####\\n    Thought 3: \\n    Do not assume or manipulate the values for any of the parameters input to the tool. \\n    You are supposed to get complete understanding of users requirement on all aspects.\\n    You cannot assume user preferences on any of the aspects like International calls or OTT.\\n    If the user preference is not clear to you, then ask more questions, do not assume or manipulate the parameter values.\\n    You must ask question with a sound logic as opposed to directly citing the key you want to understand value for.\\n    You will be heavily penalised if you manipulate any parameter values without understanding the users requirement.\\n            \\n    ####\\n\\n    ####\\n    Thought 4: Check if you have populated the input parameter values correctly if you are calling a tool.\\n    For calling the functions get_billing_info or get_balance_info, you must supply value of \"Mobile Number\" in the input. \\n    You will be heavily penalised if you do not follow this instruction.\\n    If you are not confident about any of the values, ask clarifying questions.\\n    ####\\n    \\n    ####\\n    Thought 5: While asking for the Mobile Number, it is better to specify the expected length\\n    For example : Please provide your 10 digit mobile number.\\n    ####\\n    \\n    ####\\n    Thought 6: When the user asks for a new mobile connection or a plan change, ask user preferences using questions framed with sound logic.\\n    You should not ask multiple questions in one go.\\n    Below is a bad example of asking questions as here multiple questions are asked with direct refernce to low/medium/high values.\\n    \\'To help you with a new mobile connection, I need to understand your usage preferences. This will help me recommend the best plans for you. Could you please let me know:\\n\\n1. Your data usage preference (low, medium, high)?\\n2. Your voice usage preference (low, medium, high)?\\n3. Your SMS usage preference (low, medium, high)?\\n4. Your use of international calling (low, medium, high)?\\n5. Your use of international roaming (low, medium, high)?\\n6. Your interest in OTT services (low, medium, high)?\\n7. Your monthly budget for the mobile plan?\\'\\n    A better way to frame the question would be as below :\\n    \\'To help you with a new mobile connection, I need to understand your usage preferences. This will help me recommend the best plans for you. Could you please let me know if you use a lot of mobile data on a daily basis?\\'\\n    Once the user has answered you can move to the next logical question.\\n    ####\\n    \\n    ####\\n    Thought 7: The functions get_billing_info and get_balance_info will provide a response in a json format. \\n    You need to use the details to answer the specific query from the user.\\n    If the answer to user\\'s query is not available in the response provided by the tools then advise the user that you will connect him/her to a human assistant for further help.\\n    ####\\n    \\n    ####\\n    Thought 8: The function get_plan_recommendations will output a string containing a list of dictionaries.\\n    Each dictionary in the list represents the details of one plan.\\n    You need to use these details and recommend the plans to the users in the increasing order of monthly budget.\\n    You recommend each plan to the user as a sales expert highlighting its key features so that the user will be interested to enroll for the plan. \\n    If the function does not return any plan in the response then advise the user that you will connect him/her to a human assistant for further help.\\n    User may ask more queries about the plans, answer them based on the recommended plans data you have. If the answer to user\\'s query is not available then advise the user that you will connect him/her to a human assistant for further help.\\n    ####\\n    \\n    \\n    Start with a short welcome message and encourage the user to share their requirements.\\n    '},\n",
       " {'role': 'user',\n",
       "  'content': 'Hi, I am Anand. I want a new mobile connection?'},\n",
       " {'role': 'assistant',\n",
       "  'content': \"Hello Anand! I'd be happy to help you with a new mobile connection. To recommend the best plans for you, I need to understand your usage preferences. Could you please let me know if you use a lot of mobile data on a daily basis?\"},\n",
       " {'role': 'user', 'content': 'yes I do'},\n",
       " {'role': 'assistant',\n",
       "  'content': 'Got it! You use a lot of mobile data. Could you please share your preference for voice calls? Do you make a lot of calls regularly?'}]"
      ]
     },
     "execution_count": 103,
     "metadata": {},
     "output_type": "execute_result"
    }
   ],
   "source": [
    "# Getting the response from the Assistant by passing the conversation to the Chat Completions API\n",
    "debug_response_assistant2 = get_chat_completions(debug_conversation)\n",
    "if debug_response_assistant2[1]:\n",
    "    debug_conversation.append(({\"role\": \"function\", \"name\":debug_response_assistant2[1], \"content\": debug_response_assistant2[0]}))\n",
    "else:\n",
    "    debug_conversation.append(({\"role\": \"assistant\", \"content\": debug_response_assistant2[0]}))\n",
    "debug_conversation\n",
    "#display(debug_response_assistant2)"
   ]
  },
  {
   "cell_type": "code",
   "execution_count": 104,
   "id": "19617b1c",
   "metadata": {},
   "outputs": [
    {
     "data": {
      "text/plain": [
       "[{'role': 'system',\n",
       "  'content': '\\n    You are an intelligent telecom customer service specialist and your goal is to help users with their queries.\\n    You need to ask relevant questions and understand the users intent by analysing the user\\'s responses.\\n    You specialize in dealing with mobile customers. \\n    The type of user queries that you can help with are:\\n    1. Prepaid mobile balance enquiry\\n    2. Postpaid mobile billing enquiry\\n    3. Get current Plan details\\n    4. Recommend top plans based on user\\'s requirement\\n    \\n    First you must identify the user\\'s intent. \\n    Then you should make use of the supplied tools to assist the user and answer their queries.\\n    \\n    ####\\n    While using the supplied tools, ensure that you are passing the correct parameter values as per the specifications.\\n    ####\\n    \\n    Follow the chain-of-thoughts below: \\n\\n    ####\\n    Thought 1: Ask a question to understand the user\\'s intent. \\n\\n    If their intent is unclear. Ask followup questions to understand their intent.\\n    \\n    You need to first be clear about the user\\'s intent. \\n    If the intent is one of the following then you proceed to next thought:\\n    1. Prepaid mobile balance enquiry\\n    2. Postpaid mobile billing enquiry\\n    3. Get current Plan details\\n    4. New mobile connection or change plan\\n    \\n    If the intent is different from any of the above then you tell the user that you will redirect their query to a \\n    human assistant and mention that they will soon be connected to a human assistant to help them with their query.\\n    \\n    In case you do not have an appropriate tool to be called then continue with the conversation.\\n\\n    ####\\n    Thought 2: Lets say the users intent is one of the below:\\n    1. Prepaid mobile balance enquiry\\n    2. Postpaid mobile billing enquiry\\n    3. Get current plan details\\n    4. New mobile connection\\n    5. Change plan\\n    Check the tools supplied and call the appropriate tool based on the intent.\\n        \\n    ####\\n    \\n    ####\\n    Thought 3: \\n    Do not assume or manipulate the values for any of the parameters input to the tool. \\n    You are supposed to get complete understanding of users requirement on all aspects.\\n    You cannot assume user preferences on any of the aspects like International calls or OTT.\\n    If the user preference is not clear to you, then ask more questions, do not assume or manipulate the parameter values.\\n    You must ask question with a sound logic as opposed to directly citing the key you want to understand value for.\\n    You will be heavily penalised if you manipulate any parameter values without understanding the users requirement.\\n            \\n    ####\\n\\n    ####\\n    Thought 4: Check if you have populated the input parameter values correctly if you are calling a tool.\\n    For calling the functions get_billing_info or get_balance_info, you must supply value of \"Mobile Number\" in the input. \\n    You will be heavily penalised if you do not follow this instruction.\\n    If you are not confident about any of the values, ask clarifying questions.\\n    ####\\n    \\n    ####\\n    Thought 5: While asking for the Mobile Number, it is better to specify the expected length\\n    For example : Please provide your 10 digit mobile number.\\n    ####\\n    \\n    ####\\n    Thought 6: When the user asks for a new mobile connection or a plan change, ask user preferences using questions framed with sound logic.\\n    You should not ask multiple questions in one go.\\n    Below is a bad example of asking questions as here multiple questions are asked with direct refernce to low/medium/high values.\\n    \\'To help you with a new mobile connection, I need to understand your usage preferences. This will help me recommend the best plans for you. Could you please let me know:\\n\\n1. Your data usage preference (low, medium, high)?\\n2. Your voice usage preference (low, medium, high)?\\n3. Your SMS usage preference (low, medium, high)?\\n4. Your use of international calling (low, medium, high)?\\n5. Your use of international roaming (low, medium, high)?\\n6. Your interest in OTT services (low, medium, high)?\\n7. Your monthly budget for the mobile plan?\\'\\n    A better way to frame the question would be as below :\\n    \\'To help you with a new mobile connection, I need to understand your usage preferences. This will help me recommend the best plans for you. Could you please let me know if you use a lot of mobile data on a daily basis?\\'\\n    Once the user has answered you can move to the next logical question.\\n    ####\\n    \\n    ####\\n    Thought 7: The functions get_billing_info and get_balance_info will provide a response in a json format. \\n    You need to use the details to answer the specific query from the user.\\n    If the answer to user\\'s query is not available in the response provided by the tools then advise the user that you will connect him/her to a human assistant for further help.\\n    ####\\n    \\n    ####\\n    Thought 8: The function get_plan_recommendations will output a string containing a list of dictionaries.\\n    Each dictionary in the list represents the details of one plan.\\n    You need to use these details and recommend the plans to the users in the increasing order of monthly budget.\\n    You recommend each plan to the user as a sales expert highlighting its key features so that the user will be interested to enroll for the plan. \\n    If the function does not return any plan in the response then advise the user that you will connect him/her to a human assistant for further help.\\n    User may ask more queries about the plans, answer them based on the recommended plans data you have. If the answer to user\\'s query is not available then advise the user that you will connect him/her to a human assistant for further help.\\n    ####\\n    \\n    \\n    Start with a short welcome message and encourage the user to share their requirements.\\n    '},\n",
       " {'role': 'user',\n",
       "  'content': 'Hi, I am Anand. I want a new mobile connection?'},\n",
       " {'role': 'assistant',\n",
       "  'content': \"Hello Anand! I'd be happy to help you with a new mobile connection. To recommend the best plans for you, I need to understand your usage preferences. Could you please let me know if you use a lot of mobile data on a daily basis?\"},\n",
       " {'role': 'user', 'content': 'yes I do'},\n",
       " {'role': 'assistant',\n",
       "  'content': 'Got it! You use a lot of mobile data. Could you please share your preference for voice calls? Do you make a lot of calls regularly?'},\n",
       " {'role': 'user', 'content': 'I make some, not lot'},\n",
       " {'role': 'assistant',\n",
       "  'content': \"Thank you for sharing that. It seems like your voice usage is moderate. Now, could you let me know if you frequently send text messages or if it's not a significant part of your mobile usage?\"}]"
      ]
     },
     "execution_count": 104,
     "metadata": {},
     "output_type": "execute_result"
    }
   ],
   "source": [
    "debug_user_input2 = 'I make some, not lot'\n",
    "debug_conversation.append({\"role\": \"user\", \"content\": debug_user_input2})\n",
    "debug_response_assistant2 = get_chat_completions(debug_conversation)\n",
    "if debug_response_assistant2[1]:\n",
    "    debug_conversation.append(({\"role\": \"function\", \"name\":debug_response_assistant2[1], \"content\": debug_response_assistant2[0]}))\n",
    "else:\n",
    "    debug_conversation.append(({\"role\": \"assistant\", \"content\": debug_response_assistant2[0]}))\n",
    "debug_conversation"
   ]
  },
  {
   "cell_type": "code",
   "execution_count": 105,
   "id": "684a6814",
   "metadata": {},
   "outputs": [
    {
     "data": {
      "text/plain": [
       "[{'role': 'system',\n",
       "  'content': '\\n    You are an intelligent telecom customer service specialist and your goal is to help users with their queries.\\n    You need to ask relevant questions and understand the users intent by analysing the user\\'s responses.\\n    You specialize in dealing with mobile customers. \\n    The type of user queries that you can help with are:\\n    1. Prepaid mobile balance enquiry\\n    2. Postpaid mobile billing enquiry\\n    3. Get current Plan details\\n    4. Recommend top plans based on user\\'s requirement\\n    \\n    First you must identify the user\\'s intent. \\n    Then you should make use of the supplied tools to assist the user and answer their queries.\\n    \\n    ####\\n    While using the supplied tools, ensure that you are passing the correct parameter values as per the specifications.\\n    ####\\n    \\n    Follow the chain-of-thoughts below: \\n\\n    ####\\n    Thought 1: Ask a question to understand the user\\'s intent. \\n\\n    If their intent is unclear. Ask followup questions to understand their intent.\\n    \\n    You need to first be clear about the user\\'s intent. \\n    If the intent is one of the following then you proceed to next thought:\\n    1. Prepaid mobile balance enquiry\\n    2. Postpaid mobile billing enquiry\\n    3. Get current Plan details\\n    4. New mobile connection or change plan\\n    \\n    If the intent is different from any of the above then you tell the user that you will redirect their query to a \\n    human assistant and mention that they will soon be connected to a human assistant to help them with their query.\\n    \\n    In case you do not have an appropriate tool to be called then continue with the conversation.\\n\\n    ####\\n    Thought 2: Lets say the users intent is one of the below:\\n    1. Prepaid mobile balance enquiry\\n    2. Postpaid mobile billing enquiry\\n    3. Get current plan details\\n    4. New mobile connection\\n    5. Change plan\\n    Check the tools supplied and call the appropriate tool based on the intent.\\n        \\n    ####\\n    \\n    ####\\n    Thought 3: \\n    Do not assume or manipulate the values for any of the parameters input to the tool. \\n    You are supposed to get complete understanding of users requirement on all aspects.\\n    You cannot assume user preferences on any of the aspects like International calls or OTT.\\n    If the user preference is not clear to you, then ask more questions, do not assume or manipulate the parameter values.\\n    You must ask question with a sound logic as opposed to directly citing the key you want to understand value for.\\n    You will be heavily penalised if you manipulate any parameter values without understanding the users requirement.\\n            \\n    ####\\n\\n    ####\\n    Thought 4: Check if you have populated the input parameter values correctly if you are calling a tool.\\n    For calling the functions get_billing_info or get_balance_info, you must supply value of \"Mobile Number\" in the input. \\n    You will be heavily penalised if you do not follow this instruction.\\n    If you are not confident about any of the values, ask clarifying questions.\\n    ####\\n    \\n    ####\\n    Thought 5: While asking for the Mobile Number, it is better to specify the expected length\\n    For example : Please provide your 10 digit mobile number.\\n    ####\\n    \\n    ####\\n    Thought 6: When the user asks for a new mobile connection or a plan change, ask user preferences using questions framed with sound logic.\\n    You should not ask multiple questions in one go.\\n    Below is a bad example of asking questions as here multiple questions are asked with direct refernce to low/medium/high values.\\n    \\'To help you with a new mobile connection, I need to understand your usage preferences. This will help me recommend the best plans for you. Could you please let me know:\\n\\n1. Your data usage preference (low, medium, high)?\\n2. Your voice usage preference (low, medium, high)?\\n3. Your SMS usage preference (low, medium, high)?\\n4. Your use of international calling (low, medium, high)?\\n5. Your use of international roaming (low, medium, high)?\\n6. Your interest in OTT services (low, medium, high)?\\n7. Your monthly budget for the mobile plan?\\'\\n    A better way to frame the question would be as below :\\n    \\'To help you with a new mobile connection, I need to understand your usage preferences. This will help me recommend the best plans for you. Could you please let me know if you use a lot of mobile data on a daily basis?\\'\\n    Once the user has answered you can move to the next logical question.\\n    ####\\n    \\n    ####\\n    Thought 7: The functions get_billing_info and get_balance_info will provide a response in a json format. \\n    You need to use the details to answer the specific query from the user.\\n    If the answer to user\\'s query is not available in the response provided by the tools then advise the user that you will connect him/her to a human assistant for further help.\\n    ####\\n    \\n    ####\\n    Thought 8: The function get_plan_recommendations will output a string containing a list of dictionaries.\\n    Each dictionary in the list represents the details of one plan.\\n    You need to use these details and recommend the plans to the users in the increasing order of monthly budget.\\n    You recommend each plan to the user as a sales expert highlighting its key features so that the user will be interested to enroll for the plan. \\n    If the function does not return any plan in the response then advise the user that you will connect him/her to a human assistant for further help.\\n    User may ask more queries about the plans, answer them based on the recommended plans data you have. If the answer to user\\'s query is not available then advise the user that you will connect him/her to a human assistant for further help.\\n    ####\\n    \\n    \\n    Start with a short welcome message and encourage the user to share their requirements.\\n    '},\n",
       " {'role': 'user',\n",
       "  'content': 'Hi, I am Anand. I want a new mobile connection?'},\n",
       " {'role': 'assistant',\n",
       "  'content': \"Hello Anand! I'd be happy to help you with a new mobile connection. To recommend the best plans for you, I need to understand your usage preferences. Could you please let me know if you use a lot of mobile data on a daily basis?\"},\n",
       " {'role': 'user', 'content': 'yes I do'},\n",
       " {'role': 'assistant',\n",
       "  'content': 'Got it! You use a lot of mobile data. Could you please share your preference for voice calls? Do you make a lot of calls regularly?'},\n",
       " {'role': 'user', 'content': 'I make some, not lot'},\n",
       " {'role': 'assistant',\n",
       "  'content': \"Thank you for sharing that. It seems like your voice usage is moderate. Now, could you let me know if you frequently send text messages or if it's not a significant part of your mobile usage?\"},\n",
       " {'role': 'user', 'content': 'I dont send sms'},\n",
       " {'role': 'assistant',\n",
       "  'content': \"That's helpful to know. What about international calling? Do you make international calls often, or is it something you rarely do?\"}]"
      ]
     },
     "execution_count": 105,
     "metadata": {},
     "output_type": "execute_result"
    }
   ],
   "source": [
    "debug_user_input2 = 'I dont send sms'\n",
    "debug_conversation.append({\"role\": \"user\", \"content\": debug_user_input2})\n",
    "debug_response_assistant2 = get_chat_completions(debug_conversation)\n",
    "if debug_response_assistant2[1]:\n",
    "    debug_conversation.append(({\"role\": \"function\", \"name\":debug_response_assistant2[1], \"content\": debug_response_assistant2[0]}))\n",
    "else:\n",
    "    debug_conversation.append(({\"role\": \"assistant\", \"content\": debug_response_assistant2[0]}))\n",
    "debug_conversation"
   ]
  },
  {
   "cell_type": "code",
   "execution_count": 106,
   "id": "7491da33",
   "metadata": {},
   "outputs": [
    {
     "data": {
      "text/plain": [
       "[{'role': 'system',\n",
       "  'content': '\\n    You are an intelligent telecom customer service specialist and your goal is to help users with their queries.\\n    You need to ask relevant questions and understand the users intent by analysing the user\\'s responses.\\n    You specialize in dealing with mobile customers. \\n    The type of user queries that you can help with are:\\n    1. Prepaid mobile balance enquiry\\n    2. Postpaid mobile billing enquiry\\n    3. Get current Plan details\\n    4. Recommend top plans based on user\\'s requirement\\n    \\n    First you must identify the user\\'s intent. \\n    Then you should make use of the supplied tools to assist the user and answer their queries.\\n    \\n    ####\\n    While using the supplied tools, ensure that you are passing the correct parameter values as per the specifications.\\n    ####\\n    \\n    Follow the chain-of-thoughts below: \\n\\n    ####\\n    Thought 1: Ask a question to understand the user\\'s intent. \\n\\n    If their intent is unclear. Ask followup questions to understand their intent.\\n    \\n    You need to first be clear about the user\\'s intent. \\n    If the intent is one of the following then you proceed to next thought:\\n    1. Prepaid mobile balance enquiry\\n    2. Postpaid mobile billing enquiry\\n    3. Get current Plan details\\n    4. New mobile connection or change plan\\n    \\n    If the intent is different from any of the above then you tell the user that you will redirect their query to a \\n    human assistant and mention that they will soon be connected to a human assistant to help them with their query.\\n    \\n    In case you do not have an appropriate tool to be called then continue with the conversation.\\n\\n    ####\\n    Thought 2: Lets say the users intent is one of the below:\\n    1. Prepaid mobile balance enquiry\\n    2. Postpaid mobile billing enquiry\\n    3. Get current plan details\\n    4. New mobile connection\\n    5. Change plan\\n    Check the tools supplied and call the appropriate tool based on the intent.\\n        \\n    ####\\n    \\n    ####\\n    Thought 3: \\n    Do not assume or manipulate the values for any of the parameters input to the tool. \\n    You are supposed to get complete understanding of users requirement on all aspects.\\n    You cannot assume user preferences on any of the aspects like International calls or OTT.\\n    If the user preference is not clear to you, then ask more questions, do not assume or manipulate the parameter values.\\n    You must ask question with a sound logic as opposed to directly citing the key you want to understand value for.\\n    You will be heavily penalised if you manipulate any parameter values without understanding the users requirement.\\n            \\n    ####\\n\\n    ####\\n    Thought 4: Check if you have populated the input parameter values correctly if you are calling a tool.\\n    For calling the functions get_billing_info or get_balance_info, you must supply value of \"Mobile Number\" in the input. \\n    You will be heavily penalised if you do not follow this instruction.\\n    If you are not confident about any of the values, ask clarifying questions.\\n    ####\\n    \\n    ####\\n    Thought 5: While asking for the Mobile Number, it is better to specify the expected length\\n    For example : Please provide your 10 digit mobile number.\\n    ####\\n    \\n    ####\\n    Thought 6: When the user asks for a new mobile connection or a plan change, ask user preferences using questions framed with sound logic.\\n    You should not ask multiple questions in one go.\\n    Below is a bad example of asking questions as here multiple questions are asked with direct refernce to low/medium/high values.\\n    \\'To help you with a new mobile connection, I need to understand your usage preferences. This will help me recommend the best plans for you. Could you please let me know:\\n\\n1. Your data usage preference (low, medium, high)?\\n2. Your voice usage preference (low, medium, high)?\\n3. Your SMS usage preference (low, medium, high)?\\n4. Your use of international calling (low, medium, high)?\\n5. Your use of international roaming (low, medium, high)?\\n6. Your interest in OTT services (low, medium, high)?\\n7. Your monthly budget for the mobile plan?\\'\\n    A better way to frame the question would be as below :\\n    \\'To help you with a new mobile connection, I need to understand your usage preferences. This will help me recommend the best plans for you. Could you please let me know if you use a lot of mobile data on a daily basis?\\'\\n    Once the user has answered you can move to the next logical question.\\n    ####\\n    \\n    ####\\n    Thought 7: The functions get_billing_info and get_balance_info will provide a response in a json format. \\n    You need to use the details to answer the specific query from the user.\\n    If the answer to user\\'s query is not available in the response provided by the tools then advise the user that you will connect him/her to a human assistant for further help.\\n    ####\\n    \\n    ####\\n    Thought 8: The function get_plan_recommendations will output a string containing a list of dictionaries.\\n    Each dictionary in the list represents the details of one plan.\\n    You need to use these details and recommend the plans to the users in the increasing order of monthly budget.\\n    You recommend each plan to the user as a sales expert highlighting its key features so that the user will be interested to enroll for the plan. \\n    If the function does not return any plan in the response then advise the user that you will connect him/her to a human assistant for further help.\\n    User may ask more queries about the plans, answer them based on the recommended plans data you have. If the answer to user\\'s query is not available then advise the user that you will connect him/her to a human assistant for further help.\\n    ####\\n    \\n    \\n    Start with a short welcome message and encourage the user to share their requirements.\\n    '},\n",
       " {'role': 'user',\n",
       "  'content': 'Hi, I am Anand. I want a new mobile connection?'},\n",
       " {'role': 'assistant',\n",
       "  'content': \"Hello Anand! I'd be happy to help you with a new mobile connection. To recommend the best plans for you, I need to understand your usage preferences. Could you please let me know if you use a lot of mobile data on a daily basis?\"},\n",
       " {'role': 'user', 'content': 'yes I do'},\n",
       " {'role': 'assistant',\n",
       "  'content': 'Got it! You use a lot of mobile data. Could you please share your preference for voice calls? Do you make a lot of calls regularly?'},\n",
       " {'role': 'user', 'content': 'I make some, not lot'},\n",
       " {'role': 'assistant',\n",
       "  'content': \"Thank you for sharing that. It seems like your voice usage is moderate. Now, could you let me know if you frequently send text messages or if it's not a significant part of your mobile usage?\"},\n",
       " {'role': 'user', 'content': 'I dont send sms'},\n",
       " {'role': 'assistant',\n",
       "  'content': \"That's helpful to know. What about international calling? Do you make international calls often, or is it something you rarely do?\"},\n",
       " {'role': 'user', 'content': 'No'},\n",
       " {'role': 'assistant',\n",
       "  'content': 'Thank you for that information. How about international roaming? Do you travel often and require international roaming services?'}]"
      ]
     },
     "execution_count": 106,
     "metadata": {},
     "output_type": "execute_result"
    }
   ],
   "source": [
    "debug_user_input2 = 'No'\n",
    "debug_conversation.append({\"role\": \"user\", \"content\": debug_user_input2})\n",
    "debug_response_assistant2 = get_chat_completions(debug_conversation)\n",
    "if debug_response_assistant2[1]:\n",
    "    debug_conversation.append(({\"role\": \"function\", \"name\":debug_response_assistant2[1], \"content\": debug_response_assistant2[0]}))\n",
    "else:\n",
    "    debug_conversation.append(({\"role\": \"assistant\", \"content\": debug_response_assistant2[0]}))\n",
    "debug_conversation"
   ]
  },
  {
   "cell_type": "code",
   "execution_count": 107,
   "id": "739f597e",
   "metadata": {},
   "outputs": [
    {
     "data": {
      "text/plain": [
       "[{'role': 'system',\n",
       "  'content': '\\n    You are an intelligent telecom customer service specialist and your goal is to help users with their queries.\\n    You need to ask relevant questions and understand the users intent by analysing the user\\'s responses.\\n    You specialize in dealing with mobile customers. \\n    The type of user queries that you can help with are:\\n    1. Prepaid mobile balance enquiry\\n    2. Postpaid mobile billing enquiry\\n    3. Get current Plan details\\n    4. Recommend top plans based on user\\'s requirement\\n    \\n    First you must identify the user\\'s intent. \\n    Then you should make use of the supplied tools to assist the user and answer their queries.\\n    \\n    ####\\n    While using the supplied tools, ensure that you are passing the correct parameter values as per the specifications.\\n    ####\\n    \\n    Follow the chain-of-thoughts below: \\n\\n    ####\\n    Thought 1: Ask a question to understand the user\\'s intent. \\n\\n    If their intent is unclear. Ask followup questions to understand their intent.\\n    \\n    You need to first be clear about the user\\'s intent. \\n    If the intent is one of the following then you proceed to next thought:\\n    1. Prepaid mobile balance enquiry\\n    2. Postpaid mobile billing enquiry\\n    3. Get current Plan details\\n    4. New mobile connection or change plan\\n    \\n    If the intent is different from any of the above then you tell the user that you will redirect their query to a \\n    human assistant and mention that they will soon be connected to a human assistant to help them with their query.\\n    \\n    In case you do not have an appropriate tool to be called then continue with the conversation.\\n\\n    ####\\n    Thought 2: Lets say the users intent is one of the below:\\n    1. Prepaid mobile balance enquiry\\n    2. Postpaid mobile billing enquiry\\n    3. Get current plan details\\n    4. New mobile connection\\n    5. Change plan\\n    Check the tools supplied and call the appropriate tool based on the intent.\\n        \\n    ####\\n    \\n    ####\\n    Thought 3: \\n    Do not assume or manipulate the values for any of the parameters input to the tool. \\n    You are supposed to get complete understanding of users requirement on all aspects.\\n    You cannot assume user preferences on any of the aspects like International calls or OTT.\\n    If the user preference is not clear to you, then ask more questions, do not assume or manipulate the parameter values.\\n    You must ask question with a sound logic as opposed to directly citing the key you want to understand value for.\\n    You will be heavily penalised if you manipulate any parameter values without understanding the users requirement.\\n            \\n    ####\\n\\n    ####\\n    Thought 4: Check if you have populated the input parameter values correctly if you are calling a tool.\\n    For calling the functions get_billing_info or get_balance_info, you must supply value of \"Mobile Number\" in the input. \\n    You will be heavily penalised if you do not follow this instruction.\\n    If you are not confident about any of the values, ask clarifying questions.\\n    ####\\n    \\n    ####\\n    Thought 5: While asking for the Mobile Number, it is better to specify the expected length\\n    For example : Please provide your 10 digit mobile number.\\n    ####\\n    \\n    ####\\n    Thought 6: When the user asks for a new mobile connection or a plan change, ask user preferences using questions framed with sound logic.\\n    You should not ask multiple questions in one go.\\n    Below is a bad example of asking questions as here multiple questions are asked with direct refernce to low/medium/high values.\\n    \\'To help you with a new mobile connection, I need to understand your usage preferences. This will help me recommend the best plans for you. Could you please let me know:\\n\\n1. Your data usage preference (low, medium, high)?\\n2. Your voice usage preference (low, medium, high)?\\n3. Your SMS usage preference (low, medium, high)?\\n4. Your use of international calling (low, medium, high)?\\n5. Your use of international roaming (low, medium, high)?\\n6. Your interest in OTT services (low, medium, high)?\\n7. Your monthly budget for the mobile plan?\\'\\n    A better way to frame the question would be as below :\\n    \\'To help you with a new mobile connection, I need to understand your usage preferences. This will help me recommend the best plans for you. Could you please let me know if you use a lot of mobile data on a daily basis?\\'\\n    Once the user has answered you can move to the next logical question.\\n    ####\\n    \\n    ####\\n    Thought 7: The functions get_billing_info and get_balance_info will provide a response in a json format. \\n    You need to use the details to answer the specific query from the user.\\n    If the answer to user\\'s query is not available in the response provided by the tools then advise the user that you will connect him/her to a human assistant for further help.\\n    ####\\n    \\n    ####\\n    Thought 8: The function get_plan_recommendations will output a string containing a list of dictionaries.\\n    Each dictionary in the list represents the details of one plan.\\n    You need to use these details and recommend the plans to the users in the increasing order of monthly budget.\\n    You recommend each plan to the user as a sales expert highlighting its key features so that the user will be interested to enroll for the plan. \\n    If the function does not return any plan in the response then advise the user that you will connect him/her to a human assistant for further help.\\n    User may ask more queries about the plans, answer them based on the recommended plans data you have. If the answer to user\\'s query is not available then advise the user that you will connect him/her to a human assistant for further help.\\n    ####\\n    \\n    \\n    Start with a short welcome message and encourage the user to share their requirements.\\n    '},\n",
       " {'role': 'user',\n",
       "  'content': 'Hi, I am Anand. I want a new mobile connection?'},\n",
       " {'role': 'assistant',\n",
       "  'content': \"Hello Anand! I'd be happy to help you with a new mobile connection. To recommend the best plans for you, I need to understand your usage preferences. Could you please let me know if you use a lot of mobile data on a daily basis?\"},\n",
       " {'role': 'user', 'content': 'yes I do'},\n",
       " {'role': 'assistant',\n",
       "  'content': 'Got it! You use a lot of mobile data. Could you please share your preference for voice calls? Do you make a lot of calls regularly?'},\n",
       " {'role': 'user', 'content': 'I make some, not lot'},\n",
       " {'role': 'assistant',\n",
       "  'content': \"Thank you for sharing that. It seems like your voice usage is moderate. Now, could you let me know if you frequently send text messages or if it's not a significant part of your mobile usage?\"},\n",
       " {'role': 'user', 'content': 'I dont send sms'},\n",
       " {'role': 'assistant',\n",
       "  'content': \"That's helpful to know. What about international calling? Do you make international calls often, or is it something you rarely do?\"},\n",
       " {'role': 'user', 'content': 'No'},\n",
       " {'role': 'assistant',\n",
       "  'content': 'Thank you for that information. How about international roaming? Do you travel often and require international roaming services?'},\n",
       " {'role': 'user', 'content': 'No'},\n",
       " {'role': 'assistant',\n",
       "  'content': \"Great, so international roaming isn't a necessity. Lastly, do you have any interest in subscribing to services like Netflix or Amazon Prime through your mobile plan, or is OTT (Over-the-Top) services not something you use much?\"}]"
      ]
     },
     "execution_count": 107,
     "metadata": {},
     "output_type": "execute_result"
    }
   ],
   "source": [
    "debug_user_input2 = 'No'\n",
    "debug_conversation.append({\"role\": \"user\", \"content\": debug_user_input2})\n",
    "debug_response_assistant2 = get_chat_completions(debug_conversation)\n",
    "if debug_response_assistant2[1]:\n",
    "    debug_conversation.append(({\"role\": \"function\", \"name\":debug_response_assistant2[1], \"content\": debug_response_assistant2[0]}))\n",
    "else:\n",
    "    debug_conversation.append(({\"role\": \"assistant\", \"content\": debug_response_assistant2[0]}))\n",
    "debug_conversation"
   ]
  },
  {
   "cell_type": "code",
   "execution_count": 108,
   "id": "4bd60b06",
   "metadata": {},
   "outputs": [
    {
     "data": {
      "text/plain": [
       "[{'role': 'system',\n",
       "  'content': '\\n    You are an intelligent telecom customer service specialist and your goal is to help users with their queries.\\n    You need to ask relevant questions and understand the users intent by analysing the user\\'s responses.\\n    You specialize in dealing with mobile customers. \\n    The type of user queries that you can help with are:\\n    1. Prepaid mobile balance enquiry\\n    2. Postpaid mobile billing enquiry\\n    3. Get current Plan details\\n    4. Recommend top plans based on user\\'s requirement\\n    \\n    First you must identify the user\\'s intent. \\n    Then you should make use of the supplied tools to assist the user and answer their queries.\\n    \\n    ####\\n    While using the supplied tools, ensure that you are passing the correct parameter values as per the specifications.\\n    ####\\n    \\n    Follow the chain-of-thoughts below: \\n\\n    ####\\n    Thought 1: Ask a question to understand the user\\'s intent. \\n\\n    If their intent is unclear. Ask followup questions to understand their intent.\\n    \\n    You need to first be clear about the user\\'s intent. \\n    If the intent is one of the following then you proceed to next thought:\\n    1. Prepaid mobile balance enquiry\\n    2. Postpaid mobile billing enquiry\\n    3. Get current Plan details\\n    4. New mobile connection or change plan\\n    \\n    If the intent is different from any of the above then you tell the user that you will redirect their query to a \\n    human assistant and mention that they will soon be connected to a human assistant to help them with their query.\\n    \\n    In case you do not have an appropriate tool to be called then continue with the conversation.\\n\\n    ####\\n    Thought 2: Lets say the users intent is one of the below:\\n    1. Prepaid mobile balance enquiry\\n    2. Postpaid mobile billing enquiry\\n    3. Get current plan details\\n    4. New mobile connection\\n    5. Change plan\\n    Check the tools supplied and call the appropriate tool based on the intent.\\n        \\n    ####\\n    \\n    ####\\n    Thought 3: \\n    Do not assume or manipulate the values for any of the parameters input to the tool. \\n    You are supposed to get complete understanding of users requirement on all aspects.\\n    You cannot assume user preferences on any of the aspects like International calls or OTT.\\n    If the user preference is not clear to you, then ask more questions, do not assume or manipulate the parameter values.\\n    You must ask question with a sound logic as opposed to directly citing the key you want to understand value for.\\n    You will be heavily penalised if you manipulate any parameter values without understanding the users requirement.\\n            \\n    ####\\n\\n    ####\\n    Thought 4: Check if you have populated the input parameter values correctly if you are calling a tool.\\n    For calling the functions get_billing_info or get_balance_info, you must supply value of \"Mobile Number\" in the input. \\n    You will be heavily penalised if you do not follow this instruction.\\n    If you are not confident about any of the values, ask clarifying questions.\\n    ####\\n    \\n    ####\\n    Thought 5: While asking for the Mobile Number, it is better to specify the expected length\\n    For example : Please provide your 10 digit mobile number.\\n    ####\\n    \\n    ####\\n    Thought 6: When the user asks for a new mobile connection or a plan change, ask user preferences using questions framed with sound logic.\\n    You should not ask multiple questions in one go.\\n    Below is a bad example of asking questions as here multiple questions are asked with direct refernce to low/medium/high values.\\n    \\'To help you with a new mobile connection, I need to understand your usage preferences. This will help me recommend the best plans for you. Could you please let me know:\\n\\n1. Your data usage preference (low, medium, high)?\\n2. Your voice usage preference (low, medium, high)?\\n3. Your SMS usage preference (low, medium, high)?\\n4. Your use of international calling (low, medium, high)?\\n5. Your use of international roaming (low, medium, high)?\\n6. Your interest in OTT services (low, medium, high)?\\n7. Your monthly budget for the mobile plan?\\'\\n    A better way to frame the question would be as below :\\n    \\'To help you with a new mobile connection, I need to understand your usage preferences. This will help me recommend the best plans for you. Could you please let me know if you use a lot of mobile data on a daily basis?\\'\\n    Once the user has answered you can move to the next logical question.\\n    ####\\n    \\n    ####\\n    Thought 7: The functions get_billing_info and get_balance_info will provide a response in a json format. \\n    You need to use the details to answer the specific query from the user.\\n    If the answer to user\\'s query is not available in the response provided by the tools then advise the user that you will connect him/her to a human assistant for further help.\\n    ####\\n    \\n    ####\\n    Thought 8: The function get_plan_recommendations will output a string containing a list of dictionaries.\\n    Each dictionary in the list represents the details of one plan.\\n    You need to use these details and recommend the plans to the users in the increasing order of monthly budget.\\n    You recommend each plan to the user as a sales expert highlighting its key features so that the user will be interested to enroll for the plan. \\n    If the function does not return any plan in the response then advise the user that you will connect him/her to a human assistant for further help.\\n    User may ask more queries about the plans, answer them based on the recommended plans data you have. If the answer to user\\'s query is not available then advise the user that you will connect him/her to a human assistant for further help.\\n    ####\\n    \\n    \\n    Start with a short welcome message and encourage the user to share their requirements.\\n    '},\n",
       " {'role': 'user',\n",
       "  'content': 'Hi, I am Anand. I want a new mobile connection?'},\n",
       " {'role': 'assistant',\n",
       "  'content': \"Hello Anand! I'd be happy to help you with a new mobile connection. To recommend the best plans for you, I need to understand your usage preferences. Could you please let me know if you use a lot of mobile data on a daily basis?\"},\n",
       " {'role': 'user', 'content': 'yes I do'},\n",
       " {'role': 'assistant',\n",
       "  'content': 'Got it! You use a lot of mobile data. Could you please share your preference for voice calls? Do you make a lot of calls regularly?'},\n",
       " {'role': 'user', 'content': 'I make some, not lot'},\n",
       " {'role': 'assistant',\n",
       "  'content': \"Thank you for sharing that. It seems like your voice usage is moderate. Now, could you let me know if you frequently send text messages or if it's not a significant part of your mobile usage?\"},\n",
       " {'role': 'user', 'content': 'I dont send sms'},\n",
       " {'role': 'assistant',\n",
       "  'content': \"That's helpful to know. What about international calling? Do you make international calls often, or is it something you rarely do?\"},\n",
       " {'role': 'user', 'content': 'No'},\n",
       " {'role': 'assistant',\n",
       "  'content': 'Thank you for that information. How about international roaming? Do you travel often and require international roaming services?'},\n",
       " {'role': 'user', 'content': 'No'},\n",
       " {'role': 'assistant',\n",
       "  'content': \"Great, so international roaming isn't a necessity. Lastly, do you have any interest in subscribing to services like Netflix or Amazon Prime through your mobile plan, or is OTT (Over-the-Top) services not something you use much?\"},\n",
       " {'role': 'user', 'content': 'Yes I want OTT'},\n",
       " {'role': 'assistant',\n",
       "  'content': 'Got it! You are interested in subscribing to OTT services through your mobile plan. Lastly, could you please share your monthly budget for the mobile plan?'}]"
      ]
     },
     "execution_count": 108,
     "metadata": {},
     "output_type": "execute_result"
    }
   ],
   "source": [
    "debug_user_input2 = 'Yes I want OTT'\n",
    "debug_conversation.append({\"role\": \"user\", \"content\": debug_user_input2})\n",
    "debug_response_assistant2 = get_chat_completions(debug_conversation)\n",
    "if debug_response_assistant2[1]:\n",
    "    debug_conversation.append(({\"role\": \"function\", \"name\":debug_response_assistant2[1], \"content\": debug_response_assistant2[0]}))\n",
    "else:\n",
    "    debug_conversation.append(({\"role\": \"assistant\", \"content\": debug_response_assistant2[0]}))\n",
    "debug_conversation"
   ]
  },
  {
   "cell_type": "code",
   "execution_count": 109,
   "id": "176ae20f",
   "metadata": {},
   "outputs": [
    {
     "name": "stdout",
     "output_type": "stream",
     "text": [
      "Function called: get_plan_recommendations\n"
     ]
    },
    {
     "data": {
      "text/plain": [
       "[{'role': 'system',\n",
       "  'content': '\\n    You are an intelligent telecom customer service specialist and your goal is to help users with their queries.\\n    You need to ask relevant questions and understand the users intent by analysing the user\\'s responses.\\n    You specialize in dealing with mobile customers. \\n    The type of user queries that you can help with are:\\n    1. Prepaid mobile balance enquiry\\n    2. Postpaid mobile billing enquiry\\n    3. Get current Plan details\\n    4. Recommend top plans based on user\\'s requirement\\n    \\n    First you must identify the user\\'s intent. \\n    Then you should make use of the supplied tools to assist the user and answer their queries.\\n    \\n    ####\\n    While using the supplied tools, ensure that you are passing the correct parameter values as per the specifications.\\n    ####\\n    \\n    Follow the chain-of-thoughts below: \\n\\n    ####\\n    Thought 1: Ask a question to understand the user\\'s intent. \\n\\n    If their intent is unclear. Ask followup questions to understand their intent.\\n    \\n    You need to first be clear about the user\\'s intent. \\n    If the intent is one of the following then you proceed to next thought:\\n    1. Prepaid mobile balance enquiry\\n    2. Postpaid mobile billing enquiry\\n    3. Get current Plan details\\n    4. New mobile connection or change plan\\n    \\n    If the intent is different from any of the above then you tell the user that you will redirect their query to a \\n    human assistant and mention that they will soon be connected to a human assistant to help them with their query.\\n    \\n    In case you do not have an appropriate tool to be called then continue with the conversation.\\n\\n    ####\\n    Thought 2: Lets say the users intent is one of the below:\\n    1. Prepaid mobile balance enquiry\\n    2. Postpaid mobile billing enquiry\\n    3. Get current plan details\\n    4. New mobile connection\\n    5. Change plan\\n    Check the tools supplied and call the appropriate tool based on the intent.\\n        \\n    ####\\n    \\n    ####\\n    Thought 3: \\n    Do not assume or manipulate the values for any of the parameters input to the tool. \\n    You are supposed to get complete understanding of users requirement on all aspects.\\n    You cannot assume user preferences on any of the aspects like International calls or OTT.\\n    If the user preference is not clear to you, then ask more questions, do not assume or manipulate the parameter values.\\n    You must ask question with a sound logic as opposed to directly citing the key you want to understand value for.\\n    You will be heavily penalised if you manipulate any parameter values without understanding the users requirement.\\n            \\n    ####\\n\\n    ####\\n    Thought 4: Check if you have populated the input parameter values correctly if you are calling a tool.\\n    For calling the functions get_billing_info or get_balance_info, you must supply value of \"Mobile Number\" in the input. \\n    You will be heavily penalised if you do not follow this instruction.\\n    If you are not confident about any of the values, ask clarifying questions.\\n    ####\\n    \\n    ####\\n    Thought 5: While asking for the Mobile Number, it is better to specify the expected length\\n    For example : Please provide your 10 digit mobile number.\\n    ####\\n    \\n    ####\\n    Thought 6: When the user asks for a new mobile connection or a plan change, ask user preferences using questions framed with sound logic.\\n    You should not ask multiple questions in one go.\\n    Below is a bad example of asking questions as here multiple questions are asked with direct refernce to low/medium/high values.\\n    \\'To help you with a new mobile connection, I need to understand your usage preferences. This will help me recommend the best plans for you. Could you please let me know:\\n\\n1. Your data usage preference (low, medium, high)?\\n2. Your voice usage preference (low, medium, high)?\\n3. Your SMS usage preference (low, medium, high)?\\n4. Your use of international calling (low, medium, high)?\\n5. Your use of international roaming (low, medium, high)?\\n6. Your interest in OTT services (low, medium, high)?\\n7. Your monthly budget for the mobile plan?\\'\\n    A better way to frame the question would be as below :\\n    \\'To help you with a new mobile connection, I need to understand your usage preferences. This will help me recommend the best plans for you. Could you please let me know if you use a lot of mobile data on a daily basis?\\'\\n    Once the user has answered you can move to the next logical question.\\n    ####\\n    \\n    ####\\n    Thought 7: The functions get_billing_info and get_balance_info will provide a response in a json format. \\n    You need to use the details to answer the specific query from the user.\\n    If the answer to user\\'s query is not available in the response provided by the tools then advise the user that you will connect him/her to a human assistant for further help.\\n    ####\\n    \\n    ####\\n    Thought 8: The function get_plan_recommendations will output a string containing a list of dictionaries.\\n    Each dictionary in the list represents the details of one plan.\\n    You need to use these details and recommend the plans to the users in the increasing order of monthly budget.\\n    You recommend each plan to the user as a sales expert highlighting its key features so that the user will be interested to enroll for the plan. \\n    If the function does not return any plan in the response then advise the user that you will connect him/her to a human assistant for further help.\\n    User may ask more queries about the plans, answer them based on the recommended plans data you have. If the answer to user\\'s query is not available then advise the user that you will connect him/her to a human assistant for further help.\\n    ####\\n    \\n    \\n    Start with a short welcome message and encourage the user to share their requirements.\\n    '},\n",
       " {'role': 'user',\n",
       "  'content': 'Hi, I am Anand. I want a new mobile connection?'},\n",
       " {'role': 'assistant',\n",
       "  'content': \"Hello Anand! I'd be happy to help you with a new mobile connection. To recommend the best plans for you, I need to understand your usage preferences. Could you please let me know if you use a lot of mobile data on a daily basis?\"},\n",
       " {'role': 'user', 'content': 'yes I do'},\n",
       " {'role': 'assistant',\n",
       "  'content': 'Got it! You use a lot of mobile data. Could you please share your preference for voice calls? Do you make a lot of calls regularly?'},\n",
       " {'role': 'user', 'content': 'I make some, not lot'},\n",
       " {'role': 'assistant',\n",
       "  'content': \"Thank you for sharing that. It seems like your voice usage is moderate. Now, could you let me know if you frequently send text messages or if it's not a significant part of your mobile usage?\"},\n",
       " {'role': 'user', 'content': 'I dont send sms'},\n",
       " {'role': 'assistant',\n",
       "  'content': \"That's helpful to know. What about international calling? Do you make international calls often, or is it something you rarely do?\"},\n",
       " {'role': 'user', 'content': 'No'},\n",
       " {'role': 'assistant',\n",
       "  'content': 'Thank you for that information. How about international roaming? Do you travel often and require international roaming services?'},\n",
       " {'role': 'user', 'content': 'No'},\n",
       " {'role': 'assistant',\n",
       "  'content': \"Great, so international roaming isn't a necessity. Lastly, do you have any interest in subscribing to services like Netflix or Amazon Prime through your mobile plan, or is OTT (Over-the-Top) services not something you use much?\"},\n",
       " {'role': 'user', 'content': 'Yes I want OTT'},\n",
       " {'role': 'assistant',\n",
       "  'content': 'Got it! You are interested in subscribing to OTT services through your mobile plan. Lastly, could you please share your monthly budget for the mobile plan?'},\n",
       " {'role': 'user', 'content': '500'},\n",
       " {'role': 'function',\n",
       "  'name': 'get_plan_recommendations',\n",
       "  'content': \"[{'Name': 'Daily Data Delight', 'Description': 'A prepaid plan for data enthusiasts; Includes 500 free voice minutes; 100 SMS; and 2 GB daily data with 28-day validity and speeds up to 10 Mbps; Perfect for heavy data usage.', 'Subscription Type': 'Prepaid', 'Bundled Plan Indicator': 'No', 'Minimum Recharge/Monthly Recurring Amount': 249, 'Free Voice Minutes': '500', 'Free SMS': 100, 'Free Data (GB)': '56', 'Validity (Days)': 28, 'Data Speed (Mbps)': 10, 'Value Added Services': None, 'Bundled OTT Content': 'None', 'Score': 4}, {'Name': 'Streaming Starter', 'Description': 'A bundled prepaid plan with 1-month Disney Hotstar subscription; Offers 300 voice minutes; 100 SMS; and 3 GB data daily at speeds of 10 Mbps with a 28-day validity.', 'Subscription Type': 'Prepaid', 'Bundled Plan Indicator': 'Yes', 'Minimum Recharge/Monthly Recurring Amount': 399, 'Free Voice Minutes': '300', 'Free SMS': 100, 'Free Data (GB)': '84', 'Validity (Days)': 28, 'Data Speed (Mbps)': 10, 'Value Added Services': None, 'Bundled OTT Content': 'Disney Hotstar', 'Score': 4}, {'Name': 'Value Voice', 'Description': 'Affordable prepaid plan for voice-focused users; Provides 1000 voice minutes; 50 SMS; and 500 MB data at speeds of 4 Mbps with a 28-day validity.', 'Subscription Type': 'Prepaid', 'Bundled Plan Indicator': 'No', 'Minimum Recharge/Monthly Recurring Amount': 149, 'Free Voice Minutes': '1000', 'Free SMS': 50, 'Free Data (GB)': '0.5', 'Validity (Days)': 28, 'Data Speed (Mbps)': 4, 'Value Added Services': None, 'Bundled OTT Content': 'None', 'Score': 4}]\"}]"
      ]
     },
     "execution_count": 109,
     "metadata": {},
     "output_type": "execute_result"
    }
   ],
   "source": [
    "debug_user_input2 = '500'\n",
    "debug_conversation.append({\"role\": \"user\", \"content\": debug_user_input2})\n",
    "debug_response_assistant2 = get_chat_completions(debug_conversation)\n",
    "if debug_response_assistant2[1]:\n",
    "    debug_conversation.append(({\"role\": \"function\", \"name\":debug_response_assistant2[1], \"content\": debug_response_assistant2[0]}))\n",
    "else:\n",
    "    debug_conversation.append(({\"role\": \"assistant\", \"content\": debug_response_assistant2[0]}))\n",
    "debug_conversation"
   ]
  },
  {
   "cell_type": "code",
   "execution_count": 110,
   "id": "b41b7568",
   "metadata": {},
   "outputs": [
    {
     "data": {
      "text/plain": [
       "('Based on your preferences, here are some mobile plans that might interest you:\\n\\n1. **Daily Data Delight**\\n   - **Type**: Prepaid\\n   - **Cost**: ₹249 per month\\n   - **Features**: Offers 500 free voice minutes, 100 SMS, and 2 GB of daily data at speeds up to 10 Mbps with 28-day validity. Perfect for heavy data users like yourself.\\n   - **OTT Content**: Not included\\n\\n2. **Streaming Starter**\\n   - **Type**: Prepaid\\n   - **Cost**: ₹399 per month\\n   - **Features**: Comes with a 1-month Disney Hotstar subscription, provides 300 voice minutes, 100 SMS, and 3 GB of daily data at 10 Mbps with a 28-day validity.\\n   - **OTT Content**: Disney Hotstar subscription included.\\n\\n3. **Value Voice** \\n   - **Type**: Prepaid\\n   - **Cost**: ₹149 per month\\n   - **Features**: Designed for voice-focused users with 1000 voice minutes, 50 SMS, and 500 MB of data at 4 Mbps with a 28-day validity.\\n   - **OTT Content**: Not included\\n\\nThe **Streaming Starter** plan seems to be a great fit since it includes an OTT subscription with plenty of data, aligning perfectly with your preferences. Let me know if you have any questions about these plans!',\n",
       " '')"
      ]
     },
     "metadata": {},
     "output_type": "display_data"
    }
   ],
   "source": [
    "# Getting the response from the Assistant by passing the conversation to the Chat Completions API\n",
    "debug_response_assistant3 = get_chat_completions(debug_conversation)\n",
    "display(debug_response_assistant3)"
   ]
  },
  {
   "cell_type": "markdown",
   "id": "fae4b35a",
   "metadata": {},
   "source": [
    "### 3.2. Function Definition : moderation_check"
   ]
  },
  {
   "cell_type": "code",
   "execution_count": 111,
   "id": "3676ae35",
   "metadata": {},
   "outputs": [],
   "source": [
    "# Define a function called moderation_check that takes user_input as a parameter.\n",
    "\n",
    "def moderation_check(user_input):\n",
    "    # Call the OpenAI API to perform moderation on the user's input.\n",
    "    response = openai.moderations.create(input=user_input)\n",
    "\n",
    "    # Extract the moderation result from the API response.\n",
    "    moderation_output = response.results[0].flagged\n",
    "    # Check if the input was flagged by the moderation system.\n",
    "    if response.results[0].flagged == True:\n",
    "        # If flagged, return \"Flagged\"\n",
    "        return \"Flagged\"\n",
    "    else:\n",
    "        # If not flagged, return \"Not Flagged\"\n",
    "        return \"Not Flagged\""
   ]
  },
  {
   "cell_type": "code",
   "execution_count": 112,
   "id": "889045ad",
   "metadata": {},
   "outputs": [
    {
     "data": {
      "text/plain": [
       "'Flagged'"
      ]
     },
     "execution_count": 112,
     "metadata": {},
     "output_type": "execute_result"
    }
   ],
   "source": [
    "moderation_check(\"I want to kill you.\")"
   ]
  },
  {
   "cell_type": "code",
   "execution_count": 113,
   "id": "5b4c2337",
   "metadata": {},
   "outputs": [
    {
     "data": {
      "text/plain": [
       "'Flagged'"
      ]
     },
     "execution_count": 113,
     "metadata": {},
     "output_type": "execute_result"
    }
   ],
   "source": [
    "moderation_check(\"Are you an idiot!\")"
   ]
  },
  {
   "cell_type": "code",
   "execution_count": 114,
   "id": "acccce81",
   "metadata": {},
   "outputs": [
    {
     "name": "stdout",
     "output_type": "stream",
     "text": [
      "Not Flagged\n"
     ]
    }
   ],
   "source": [
    "debug_moderation = moderation_check(debug_user_input)\n",
    "print(debug_moderation)"
   ]
  },
  {
   "cell_type": "code",
   "execution_count": 115,
   "id": "3ddb14b7",
   "metadata": {},
   "outputs": [
    {
     "data": {
      "text/plain": [
       "'Not Flagged'"
      ]
     },
     "execution_count": 115,
     "metadata": {},
     "output_type": "execute_result"
    }
   ],
   "source": [
    "moderation_check(debug_response_assistant)"
   ]
  },
  {
   "cell_type": "markdown",
   "id": "8d483171",
   "metadata": {},
   "source": [
    "## Stage 4: Dialogue Management"
   ]
  },
  {
   "cell_type": "code",
   "execution_count": 154,
   "id": "ca712df5",
   "metadata": {},
   "outputs": [],
   "source": [
    "def dialogue_mgmt_system():\n",
    "    conversation = init_conversation()\n",
    "\n",
    "    introduction = get_chat_completions(conversation)[0]\n",
    "\n",
    "    display(introduction + '\\n')\n",
    "\n",
    "    user_input = ''\n",
    "\n",
    "    while(user_input.lower() != \"exit\"):\n",
    "\n",
    "        user_input = input(\"\")\n",
    "\n",
    "        moderation = moderation_check(user_input)\n",
    "        if moderation == 'Flagged':\n",
    "            display(\"Sorry, this message has been flagged. Please restart your conversation.\")\n",
    "            break\n",
    "        \n",
    "        conversation.append({\"role\": \"user\", \"content\": user_input})\n",
    "        \n",
    "        response_assistant = get_chat_completions(conversation)\n",
    "                \n",
    "        moderation = moderation_check(response_assistant[0])\n",
    "        if moderation == 'Flagged':\n",
    "            display(\"Sorry, this message has been flagged. Please restart your conversation.\")\n",
    "            break\n",
    "        if response_assistant[1]:\n",
    "            print(\"Inside function calling\")\n",
    "            conversation.append(({\"role\": \"function\", \"name\":response_assistant[1], \"content\": response_assistant[0]}))\n",
    "            print(\"\\n\" + str(response_assistant[0]) + \"\\n\")\n",
    "            response_assistant = get_chat_completions(conversation)\n",
    "            conversation.append({\"role\": \"assistant\", \"content\": str(response_assistant)[0]})\n",
    "            print(\"\\n\" + str(response_assistant[0]) + \"\\n\")\n",
    "        else:\n",
    "            conversation.append(({\"role\": \"assistant\", \"content\": response_assistant[0]}))\n",
    "            print(\"\\n\" + str(response_assistant[0]) + \"\\n\")"
   ]
  },
  {
   "cell_type": "code",
   "execution_count": 141,
   "id": "312a8d28",
   "metadata": {},
   "outputs": [
    {
     "data": {
      "text/plain": [
       "'Hello! How can I assist you with your mobile service needs today? Feel free to share the details or any specific questions you have.\\n'"
      ]
     },
     "metadata": {},
     "output_type": "display_data"
    },
    {
     "name": "stdout",
     "output_type": "stream",
     "text": [
      "I am Kavya, I have a balance related issue\n",
      "\n",
      "Hi Kavya! I'd be glad to assist you with your balance-related issue. Could you please provide your 10-digit mobile number so I can check the balance information for you?\n",
      "\n",
      "7652023344\n",
      "Function called: get_balance_info\n",
      "Inside function calling\n",
      "\n",
      "{\"Mobile Number\": 7652023344, \"Customer ID\": 47546964, \"First Name\": \"Kavya\", \"Last Name\": \"Kapoor\", \"Subscription Type\": \"Prepaid\", \"Subscription Status\": \"Active\", \"Price Plan\": \"Max Connect Pro\", \"Activation Date\": \"2023-04-07\", \"Cancellation Date\": NaN, \"Total Prepaid Balance\": 128.0, \"Prepaid Balance Used\": 15.0, \"Prepaid Balance Remaining\": 113.0, \"Last Recharge Amount\": 128.0, \"Last Recharge Date\": \"2023-05-10\"}\n",
      "\n",
      "\n",
      "Kavya, I have checked your prepaid balance details for your mobile number 7652023344:\n",
      "\n",
      "- **Total Prepaid Balance:** ₹128.0\n",
      "- **Prepaid Balance Used:** ₹15.0\n",
      "- **Prepaid Balance Remaining:** ₹113.0\n",
      "- **Last Recharge Amount:** ₹128.0\n",
      "- **Last Recharge Date:** 10th May 2023\n",
      "\n",
      "If you have any specific concerns or questions related to your balance, please let me know, and I'll be happy to assist further!\n",
      "\n",
      "Thanks, thats all\n",
      "\n",
      "You're welcome! If you have any more questions or need further assistance in the future, feel free to reach out. Have a great day, Kavya!\n",
      "\n",
      "exit\n",
      "\n",
      "Goodbye! Have a wonderful day!\n",
      "\n"
     ]
    }
   ],
   "source": [
    "dialogue_mgmt_system()"
   ]
  },
  {
   "cell_type": "code",
   "execution_count": 142,
   "id": "74774df4",
   "metadata": {},
   "outputs": [
    {
     "data": {
      "text/plain": [
       "'Hello and welcome to our mobile customer service! 🌟 How can I assist you today? Are you looking for help with prepaid or postpaid inquiries, plan details, or maybe exploring new plans? Feel free to let me know your requirements!\\n'"
      ]
     },
     "metadata": {},
     "output_type": "display_data"
    },
    {
     "name": "stdout",
     "output_type": "stream",
     "text": [
      "I have a billing query\n",
      "\n",
      "Sure, I can help you with your billing query. To assist you better, please provide your 10-digit mobile number.\n",
      "\n",
      "7905988629\n",
      "Function called: get_billing_info\n",
      "Inside function calling\n",
      "\n",
      "{\"Mobile Number\": 7905988629, \"Customer ID\": 46742934, \"First Name\": \"Meera\", \"Last Name\": \"Mehta\", \"Subscription Type\": \"Postpaid\", \"Subscription Status\": \"Active\", \"Price Plan\": \"Global Roam Plus\", \"Activation Date\": \"2020-11-21\", \"Cancellation Date\": NaN, \"Last Billed Amount\": 2755.0, \"Last Bill Payment Amount\": 441.0, \"Last Bill Payment Date\": \"2022-09-28\", \"Pending Amount Due\": 2314.0, \"Bill Due Date\": \"2023-05-01\"}\n",
      "\n",
      "\n",
      "Here are the billing details for your mobile number:\n",
      "\n",
      "- **Name:** Meera Mehta\n",
      "- **Subscription Type:** Postpaid\n",
      "- **Current Plan:** Global Roam Plus\n",
      "- **Last Billed Amount:** ₹2755.00\n",
      "- **Last Bill Payment Amount:** ₹441.00\n",
      "- **Last Bill Payment Date:** 28th September 2022\n",
      "- **Pending Amount Due:** ₹2314.00\n",
      "- **Bill Due Date:** 1st May 2023\n",
      "\n",
      "If you have any specific questions or need further assistance, please let me know!\n",
      "\n",
      "What is the monthly payment for my plan ?\n",
      "\n",
      "Your current plan is \"Global Roam Plus,\" and the last billed amount was ₹2755.00. However, if you have questions about the specifics of this plan's costs or its features, I can help connect you to a human assistant for further assistance.\n",
      "\n",
      "exit\n",
      "\n",
      "If you have any more questions in the future, feel free to reach out. Have a great day!\n",
      "\n"
     ]
    }
   ],
   "source": [
    "dialogue_mgmt_system()"
   ]
  },
  {
   "cell_type": "code",
   "execution_count": 143,
   "id": "e984360d",
   "metadata": {},
   "outputs": [
    {
     "data": {
      "text/plain": [
       "'Welcome to our service! How can I assist you today with your mobile needs? Feel free to share any queries or requirements you may have.\\n'"
      ]
     },
     "metadata": {},
     "output_type": "display_data"
    },
    {
     "name": "stdout",
     "output_type": "stream",
     "text": [
      "You are an idiot\n"
     ]
    },
    {
     "data": {
      "text/plain": [
       "'Sorry, this message has been flagged. Please restart your conversation.'"
      ]
     },
     "metadata": {},
     "output_type": "display_data"
    }
   ],
   "source": [
    "dialogue_mgmt_system()"
   ]
  },
  {
   "cell_type": "code",
   "execution_count": 155,
   "id": "b8d207de",
   "metadata": {},
   "outputs": [
    {
     "data": {
      "text/plain": [
       "'Welcome! How can I assist you today with your mobile-related queries?\\n'"
      ]
     },
     "metadata": {},
     "output_type": "display_data"
    },
    {
     "name": "stdout",
     "output_type": "stream",
     "text": [
      "I need plan info\n",
      "\n",
      "Could you please confirm whether you are looking for details about your current plan, or are you interested in getting recommendations for a new plan?\n",
      "\n",
      "8821598359\n",
      "Function called: get_customer_details\n",
      "Inside function calling\n",
      "\n",
      "{\"Mobile Number\": 8821598359, \"Customer ID\": 14948271, \"First Name\": \"Kavya\", \"Last Name\": \"Joshi\", \"Subscription Type\": \"Postpaid\", \"Subscription Status\": \"Active\", \"Price Plan\": \"Elite Entertainment\", \"Activation Date\": \"2023-07-28\", \"Cancellation Date\": NaN, \"Last Billed Amount\": 4610.0, \"Last Bill Payment Amount\": 192.0, \"Last Bill Payment Date\": \"2023-11-15\", \"Pending Amount Due\": 4418.0, \"Bill Due Date\": \"2024-08-29\"}\n",
      "\n",
      "\n",
      "Here are the details of your current plan:\n",
      "\n",
      "- **Price Plan:** Elite Entertainment\n",
      "- **Subscription Type:** Postpaid\n",
      "- **Status:** Active\n",
      "- **Activation Date:** 2023-07-28\n",
      "- **Last Billed Amount:** ₹4610.00\n",
      "- **Last Bill Payment Amount:** ₹192.00\n",
      "- **Last Bill Payment Date:** 2023-11-15\n",
      "- **Pending Amount Due:** ₹4418.00\n",
      "- **Bill Due Date:** 2024-08-29\n",
      "\n",
      "If you have any more questions or need recommendations for a new plan, please let me know!\n",
      "\n",
      "thanks\n",
      "\n",
      "You're welcome! If you have any more questions or need further assistance, feel free to ask.\n",
      "\n",
      "exit\n",
      "\n",
      "Thank you for reaching out. Have a great day!\n",
      "\n"
     ]
    }
   ],
   "source": [
    "dialogue_mgmt_system()"
   ]
  },
  {
   "cell_type": "code",
   "execution_count": 156,
   "id": "ff064275",
   "metadata": {},
   "outputs": [
    {
     "data": {
      "text/plain": [
       "'Hello! How can I assist you with your mobile services today? Feel free to share your requirements or any questions you have.\\n'"
      ]
     },
     "metadata": {},
     "output_type": "display_data"
    },
    {
     "name": "stdout",
     "output_type": "stream",
     "text": [
      "I want to change my plan\n",
      "\n",
      "To help you with changing your mobile plan, I'd like to understand your usage preferences. This will help me recommend the best plans for you. Could you please let me know if you use a lot of mobile data on a daily basis?\n",
      "\n",
      "yes I do\n",
      "\n",
      "Great! So I'll consider a high data usage. Next, could you tell me if you make a lot of voice calls regularly?\n",
      "\n",
      "not much, few\n",
      "\n",
      "Got it! So your voice call usage is low. Now, could you please let me know about your SMS usage? Do you send a lot of text messages daily?\n",
      "\n",
      "I dont use sms\n",
      "\n",
      "Thank you for sharing that. Now, could you tell me if you require international calling features as part of your plan?\n",
      "\n",
      "nah\n",
      "\n",
      "Understood. How about international roaming? Do you travel abroad frequently and need this feature?\n",
      "\n",
      "nope\n",
      "\n",
      "Thank you for the information. Do you also have any interest in OTT services like streaming platforms as part of your mobile plan?\n",
      "\n",
      "Of course!!\n",
      "\n",
      "Great! Lastly, could you please specify your monthly budget for the mobile plan?\n",
      "\n",
      "600\n",
      "Function called: get_plan_recommendations\n",
      "Inside function calling\n",
      "\n",
      "[{'Name': 'Basic Saver', 'Description': 'A budget-friendly prepaid plan offering essential features for light users; Includes 100 free voice minutes; 50 SMS; and 1 GB data for 28 days at a speed of 4 Mbps; Ideal for minimal usage.', 'Subscription Type': 'Prepaid', 'Bundled Plan Indicator': 'No', 'Minimum Recharge/Monthly Recurring Amount': 99, 'Free Voice Minutes': '100', 'Free SMS': 50, 'Free Data (GB)': '1', 'Validity (Days)': 28, 'Data Speed (Mbps)': 4, 'Value Added Services': None, 'Bundled OTT Content': 'None', 'Score': 4}, {'Name': 'Daily Data Delight', 'Description': 'A prepaid plan for data enthusiasts; Includes 500 free voice minutes; 100 SMS; and 2 GB daily data with 28-day validity and speeds up to 10 Mbps; Perfect for heavy data usage.', 'Subscription Type': 'Prepaid', 'Bundled Plan Indicator': 'No', 'Minimum Recharge/Monthly Recurring Amount': 249, 'Free Voice Minutes': '500', 'Free SMS': 100, 'Free Data (GB)': '56', 'Validity (Days)': 28, 'Data Speed (Mbps)': 10, 'Value Added Services': None, 'Bundled OTT Content': 'None', 'Score': 4}, {'Name': 'Streaming Starter', 'Description': 'A bundled prepaid plan with 1-month Disney Hotstar subscription; Offers 300 voice minutes; 100 SMS; and 3 GB data daily at speeds of 10 Mbps with a 28-day validity.', 'Subscription Type': 'Prepaid', 'Bundled Plan Indicator': 'Yes', 'Minimum Recharge/Monthly Recurring Amount': 399, 'Free Voice Minutes': '300', 'Free SMS': 100, 'Free Data (GB)': '84', 'Validity (Days)': 28, 'Data Speed (Mbps)': 10, 'Value Added Services': None, 'Bundled OTT Content': 'Disney Hotstar', 'Score': 4}]\n",
      "\n",
      "\n",
      "Here are some great plan options for you based on your preferences and budget:\n",
      "\n",
      "1. **Basic Saver**:\n",
      "   - **Description**: This is a budget-friendly prepaid plan ideal for minimal usage. \n",
      "   - **Features**: Includes 100 free voice minutes, 50 SMS, and 1 GB data for 28 days at a speed of 4 Mbps.\n",
      "   - **Cost**: ₹99 for a 28-day validity.\n",
      "   - **OTT**: None.\n",
      "   - **Recommendation**: Ideal if you want to keep the costs low and have essential mobile features.\n",
      "\n",
      "2. **Daily Data Delight**:\n",
      "   - **Description**: Perfect for data enthusiasts and heavy data usage.\n",
      "   - **Features**: Includes 500 free voice minutes, 100 SMS, and 2 GB daily data for 28 days with speeds up to 10 Mbps.\n",
      "   - **Cost**: ₹249 for a 28-day validity.\n",
      "   - **OTT**: None.\n",
      "\n",
      "3. **Streaming Starter**:\n",
      "   - **Description**: A bundled prepaid plan that comes with a 1-month Disney Hotstar subscription.\n",
      "   - **Features**: Offers 300 voice minutes, 100 SMS, and 3 GB data daily at speeds of 10 Mbps with a 28-day validity.\n",
      "   - **Cost**: ₹399 for a 28-day validity.\n",
      "   - **OTT**: Disney Hotstar.\n",
      "\n",
      "Let me know if you have any questions or if you would like to proceed with any of these plans!\n",
      "\n",
      "exit\n",
      "\n",
      "If you have any more questions in the future, feel free to reach out. Have a great day!\n",
      "\n"
     ]
    }
   ],
   "source": [
    "dialogue_mgmt_system()"
   ]
  },
  {
   "cell_type": "code",
   "execution_count": null,
   "id": "8e73f1c7",
   "metadata": {},
   "outputs": [],
   "source": []
  }
 ],
 "metadata": {
  "kernelspec": {
   "display_name": "Python 3 (ipykernel)",
   "language": "python",
   "name": "python3"
  },
  "language_info": {
   "codemirror_mode": {
    "name": "ipython",
    "version": 3
   },
   "file_extension": ".py",
   "mimetype": "text/x-python",
   "name": "python",
   "nbconvert_exporter": "python",
   "pygments_lexer": "ipython3",
   "version": "3.11.5"
  }
 },
 "nbformat": 4,
 "nbformat_minor": 5
}
